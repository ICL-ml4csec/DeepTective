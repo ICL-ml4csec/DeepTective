{
 "cells": [
  {
   "cell_type": "markdown",
   "metadata": {},
   "source": [
    "# Analysis of Tokens "
   ]
  },
  {
   "cell_type": "code",
   "execution_count": 1,
   "metadata": {},
   "outputs": [],
   "source": [
    "import pandas as pd\n",
    "import numpy as np\n",
    "import matplotlib.pyplot as plt\n",
    "import activations as act"
   ]
  },
  {
   "cell_type": "code",
   "execution_count": 2,
   "metadata": {},
   "outputs": [],
   "source": [
    "sard_sqli_token = pd.read_pickle('SARD_SQLI_token.pkl')\n",
    "sard_sqli_graph = pd.read_pickle('SARD_SQLI_graph.pkl')"
   ]
  },
  {
   "cell_type": "code",
   "execution_count": 3,
   "metadata": {},
   "outputs": [
    {
     "data": {
      "text/plain": [
       "Int64Index([  0,   1,   2,   3,   4,   5,   6,   7,   8,   9,\n",
       "            ...\n",
       "            788, 789, 790, 791, 792, 793, 794, 795, 796, 797],\n",
       "           dtype='int64', length=386)"
      ]
     },
     "execution_count": 3,
     "metadata": {},
     "output_type": "execute_result"
    }
   ],
   "source": [
    "sard_sqli_token[1==sard_sqli_token.predicted].index"
   ]
  },
  {
   "cell_type": "code",
   "execution_count": 4,
   "metadata": {},
   "outputs": [],
   "source": [
    "idx=787"
   ]
  },
  {
   "cell_type": "markdown",
   "metadata": {},
   "source": [
    "## Code Tokens"
   ]
  },
  {
   "cell_type": "code",
   "execution_count": 5,
   "metadata": {},
   "outputs": [
    {
     "data": {
      "text/html": [
       "<h1 style=\"text-align: center;\"><span style=\"text-decoration: underline;\"><strong>Saliency Map</strong></span></h1>Label: 1 <br /> Predicted: 1 <br /> Number of UNKNOWN tokens: 0 <br />Distribution of activations: <font style=\"background: rgba(255,255,255, 0.5)\">0.0</font> <font style=\"background: rgba(0,0,255, 0.5)\">0.1</font> <font style=\"background: rgba(0,206,209, 0.5)\">0.2</font> <font style=\"background: rgba(0,128,0, 0.5)\">0.3</font> <font style=\"background: rgba(153,255,204, 0.5)\">0.4</font> <font style=\"background: rgba(95,158,160, 0.5)\">0.5</font> <font style=\"background: rgba(255,128,0, 0.5)\">0.6</font> <font style=\"background: rgba(255,0,255, 0.5)\">0.7</font> <font style=\"background: rgba(255,0,0, 0.5)\">0.8</font> <font style=\"background: rgba(128,0,0, 0.5)\">0.9</font> <br /> <br /><font style=\"background: rgba(255,255,255, 0.500)\">VAR0</font>\n",
       "<font style=\"background: rgba(0,0,255, 0.500)\">EQUALS</font>\n",
       "<font style=\"background: rgba(255,255,255, 0.500)\">$_POST</font>\n",
       "<font style=\"background: rgba(0,0,255, 0.500)\">LBRACKET</font>\n",
       "<font style=\"background: rgba(0,206,209, 0.500)\">CONSTANT_ENCAPSED_STRING</font>\n",
       "<font style=\"background: rgba(0,206,209, 0.500)\">RBRACKET</font>\n",
       "<font style=\"background: rgba(95,158,160, 0.500)\">SEMI</font>\n",
       "<br />\n",
       "<font style=\"background: rgba(255,255,255, 0.500)\">VAR2</font>\n",
       "<font style=\"background: rgba(0,0,255, 0.500)\">EQUALS</font>\n",
       "<font style=\"background: rgba(255,255,255, 0.500)\">UNSERIALIZE</font>\n",
       "<font style=\"background: rgba(128,0,0, 0.500)\">LPAREN</font>\n",
       "<font style=\"background: rgba(255,255,255, 0.500)\">VAR0</font>\n",
       "<font style=\"background: rgba(255,255,255, 0.500)\">RPAREN</font>\n",
       "<font style=\"background: rgba(95,158,160, 0.500)\">SEMI</font>\n",
       "<br />\n",
       "<font style=\"background: rgba(255,255,255, 0.500)\">VAR1</font>\n",
       "<font style=\"background: rgba(0,0,255, 0.500)\">EQUALS</font>\n",
       "<font style=\"background: rgba(153,255,204, 0.500)\">QUOTE</font>\n",
       "<font style=\"background: rgba(0,206,209, 0.500)\">ENCAPSED_AND_WHITESPACE</font>\n",
       "<font style=\"background: rgba(255,255,255, 0.500)\">VAR2</font>\n",
       "<font style=\"background: rgba(0,206,209, 0.500)\">ENCAPSED_AND_WHITESPACE</font>\n",
       "<font style=\"background: rgba(153,255,204, 0.500)\">QUOTE</font>\n",
       "<font style=\"background: rgba(95,158,160, 0.500)\">SEMI</font>\n",
       "<br />\n",
       "<font style=\"background: rgba(0,0,255, 0.500)\">VAR4</font>\n",
       "<font style=\"background: rgba(0,0,255, 0.500)\">EQUALS</font>\n",
       "<font style=\"background: rgba(255,255,255, 0.500)\">MYSQL_CONNECT</font>\n",
       "<font style=\"background: rgba(128,0,0, 0.500)\">LPAREN</font>\n",
       "<font style=\"background: rgba(0,206,209, 0.500)\">CONSTANT_ENCAPSED_STRING</font>\n",
       "<font style=\"background: rgba(255,255,255, 0.500)\">COMMA</font>\n",
       "<font style=\"background: rgba(0,206,209, 0.500)\">CONSTANT_ENCAPSED_STRING</font>\n",
       "<font style=\"background: rgba(255,255,255, 0.500)\">COMMA</font>\n",
       "<font style=\"background: rgba(0,206,209, 0.500)\">CONSTANT_ENCAPSED_STRING</font>\n",
       "<font style=\"background: rgba(255,255,255, 0.500)\">RPAREN</font>\n",
       "<font style=\"background: rgba(95,158,160, 0.500)\">SEMI</font>\n",
       "<br />\n",
       "<font style=\"background: rgba(255,255,255, 0.500)\">MYSQL_SELECT_DB</font>\n",
       "<font style=\"background: rgba(128,0,0, 0.500)\">LPAREN</font>\n",
       "<font style=\"background: rgba(0,206,209, 0.500)\">CONSTANT_ENCAPSED_STRING</font>\n",
       "<font style=\"background: rgba(255,255,255, 0.500)\">RPAREN</font>\n",
       "<font style=\"background: rgba(95,158,160, 0.500)\">SEMI</font>\n",
       "<br />\n",
       "<font style=\"background: rgba(0,0,255, 0.500)\">ECHO</font>\n",
       "<font style=\"background: rgba(153,255,204, 0.500)\">QUOTE</font>\n",
       "<font style=\"background: rgba(0,206,209, 0.500)\">ENCAPSED_AND_WHITESPACE</font>\n",
       "<font style=\"background: rgba(153,255,204, 0.500)\">QUOTE</font>\n",
       "<font style=\"background: rgba(255,255,255, 0.500)\">CONCAT</font>\n",
       "<font style=\"background: rgba(255,255,255, 0.500)\">VAR1</font>\n",
       "<font style=\"background: rgba(255,255,255, 0.500)\">CONCAT</font>\n",
       "<font style=\"background: rgba(153,255,204, 0.500)\">QUOTE</font>\n",
       "<font style=\"background: rgba(0,206,209, 0.500)\">ENCAPSED_AND_WHITESPACE</font>\n",
       "<font style=\"background: rgba(153,255,204, 0.500)\">QUOTE</font>\n",
       "<font style=\"background: rgba(95,158,160, 0.500)\">SEMI</font>\n",
       "<br />\n",
       "<font style=\"background: rgba(255,255,255, 0.500)\">VAR3</font>\n",
       "<font style=\"background: rgba(0,0,255, 0.500)\">EQUALS</font>\n",
       "<font style=\"background: rgba(255,255,255, 0.500)\">MYSQL_QUERY</font>\n",
       "<font style=\"background: rgba(128,0,0, 0.500)\">LPAREN</font>\n",
       "<font style=\"background: rgba(255,255,255, 0.500)\">VAR1</font>\n",
       "<font style=\"background: rgba(255,255,255, 0.500)\">RPAREN</font>\n",
       "<font style=\"background: rgba(95,158,160, 0.500)\">SEMI</font>\n",
       "<br />\n",
       "<font style=\"background: rgba(255,255,255, 0.500)\">WHILE</font>\n",
       "<font style=\"background: rgba(128,0,0, 0.500)\">LPAREN</font>\n",
       "<font style=\"background: rgba(255,255,255, 0.500)\">VAR5</font>\n",
       "<font style=\"background: rgba(0,0,255, 0.500)\">EQUALS</font>\n",
       "<font style=\"background: rgba(255,255,255, 0.500)\">MYSQL_FETCH_ARRAY</font>\n",
       "<font style=\"background: rgba(128,0,0, 0.500)\">LPAREN</font>\n",
       "<font style=\"background: rgba(255,255,255, 0.500)\">VAR3</font>\n",
       "<font style=\"background: rgba(255,255,255, 0.500)\">RPAREN</font>\n",
       "<font style=\"background: rgba(255,255,255, 0.500)\">RPAREN</font>\n",
       "<font style=\"background: rgba(255,255,255, 0.500)\">LBRACE</font>\n",
       "<font style=\"background: rgba(255,255,255, 0.500)\">PRINT_R</font>\n",
       "<font style=\"background: rgba(128,0,0, 0.500)\">LPAREN</font>\n",
       "<font style=\"background: rgba(255,255,255, 0.500)\">VAR5</font>\n",
       "<font style=\"background: rgba(255,255,255, 0.500)\">RPAREN</font>\n",
       "<font style=\"background: rgba(95,158,160, 0.500)\">SEMI</font>\n",
       "<br />\n",
       "<font style=\"background: rgba(0,0,255, 0.500)\">ECHO</font>\n",
       "<font style=\"background: rgba(153,255,204, 0.500)\">QUOTE</font>\n",
       "<font style=\"background: rgba(0,206,209, 0.500)\">ENCAPSED_AND_WHITESPACE</font>\n",
       "<font style=\"background: rgba(153,255,204, 0.500)\">QUOTE</font>\n",
       "<font style=\"background: rgba(95,158,160, 0.500)\">SEMI</font>\n",
       "<br />\n",
       "<font style=\"background: rgba(255,128,0, 0.500)\">RBRACE</font>\n",
       "<font style=\"background: rgba(95,158,160, 0.500)\">MYSQL_CLOSE</font>\n",
       "<font style=\"background: rgba(128,0,0, 0.500)\">LPAREN</font>\n",
       "<font style=\"background: rgba(0,0,255, 0.500)\">VAR4</font>\n",
       "<font style=\"background: rgba(255,255,255, 0.500)\">RPAREN</font>\n",
       "<font style=\"background: rgba(95,158,160, 0.500)\">SEMI</font>\n",
       "<br />\n"
      ],
      "text/plain": [
       "<IPython.core.display.HTML object>"
      ]
     },
     "metadata": {},
     "output_type": "display_data"
    },
    {
     "data": {
      "text/html": [
       "<h1 style=\"text-align: center;\"><span style=\"text-decoration: underline;\"><strong>Integrated Gradients</strong></span></h1>Label: 1 <br /> Predicted: 1 <br /> Number of UNKNOWN tokens: 0 <br />Distribution of activations: <font style=\"background: rgba(255,255,255, 0.5)\">0.0</font> <font style=\"background: rgba(0,0,255, 0.5)\">0.1</font> <font style=\"background: rgba(0,206,209, 0.5)\">0.2</font> <font style=\"background: rgba(0,128,0, 0.5)\">0.3</font> <font style=\"background: rgba(153,255,204, 0.5)\">0.4</font> <font style=\"background: rgba(95,158,160, 0.5)\">0.5</font> <font style=\"background: rgba(255,128,0, 0.5)\">0.6</font> <font style=\"background: rgba(255,0,255, 0.5)\">0.7</font> <font style=\"background: rgba(255,0,0, 0.5)\">0.8</font> <font style=\"background: rgba(128,0,0, 0.5)\">0.9</font> <br /> <br /><font style=\"background: rgba(255,255,255, 0.500)\">VAR0</font>\n",
       "<font style=\"background: rgba(0,0,255, 0.500)\">EQUALS</font>\n",
       "<font style=\"background: rgba(255,255,255, 0.500)\">$_POST</font>\n",
       "<font style=\"background: rgba(0,0,255, 0.500)\">LBRACKET</font>\n",
       "<font style=\"background: rgba(0,206,209, 0.500)\">CONSTANT_ENCAPSED_STRING</font>\n",
       "<font style=\"background: rgba(0,206,209, 0.500)\">RBRACKET</font>\n",
       "<font style=\"background: rgba(95,158,160, 0.500)\">SEMI</font>\n",
       "<br />\n",
       "<font style=\"background: rgba(255,255,255, 0.500)\">VAR2</font>\n",
       "<font style=\"background: rgba(0,0,255, 0.500)\">EQUALS</font>\n",
       "<font style=\"background: rgba(255,255,255, 0.500)\">UNSERIALIZE</font>\n",
       "<font style=\"background: rgba(128,0,0, 0.500)\">LPAREN</font>\n",
       "<font style=\"background: rgba(255,255,255, 0.500)\">VAR0</font>\n",
       "<font style=\"background: rgba(255,255,255, 0.500)\">RPAREN</font>\n",
       "<font style=\"background: rgba(95,158,160, 0.500)\">SEMI</font>\n",
       "<br />\n",
       "<font style=\"background: rgba(255,255,255, 0.500)\">VAR1</font>\n",
       "<font style=\"background: rgba(0,0,255, 0.500)\">EQUALS</font>\n",
       "<font style=\"background: rgba(95,158,160, 0.500)\">QUOTE</font>\n",
       "<font style=\"background: rgba(0,128,0, 0.500)\">ENCAPSED_AND_WHITESPACE</font>\n",
       "<font style=\"background: rgba(255,255,255, 0.500)\">VAR2</font>\n",
       "<font style=\"background: rgba(0,128,0, 0.500)\">ENCAPSED_AND_WHITESPACE</font>\n",
       "<font style=\"background: rgba(95,158,160, 0.500)\">QUOTE</font>\n",
       "<font style=\"background: rgba(95,158,160, 0.500)\">SEMI</font>\n",
       "<br />\n",
       "<font style=\"background: rgba(0,0,255, 0.500)\">VAR4</font>\n",
       "<font style=\"background: rgba(0,0,255, 0.500)\">EQUALS</font>\n",
       "<font style=\"background: rgba(255,255,255, 0.500)\">MYSQL_CONNECT</font>\n",
       "<font style=\"background: rgba(128,0,0, 0.500)\">LPAREN</font>\n",
       "<font style=\"background: rgba(0,206,209, 0.500)\">CONSTANT_ENCAPSED_STRING</font>\n",
       "<font style=\"background: rgba(255,255,255, 0.500)\">COMMA</font>\n",
       "<font style=\"background: rgba(0,206,209, 0.500)\">CONSTANT_ENCAPSED_STRING</font>\n",
       "<font style=\"background: rgba(255,255,255, 0.500)\">COMMA</font>\n",
       "<font style=\"background: rgba(0,206,209, 0.500)\">CONSTANT_ENCAPSED_STRING</font>\n",
       "<font style=\"background: rgba(255,255,255, 0.500)\">RPAREN</font>\n",
       "<font style=\"background: rgba(95,158,160, 0.500)\">SEMI</font>\n",
       "<br />\n",
       "<font style=\"background: rgba(255,255,255, 0.500)\">MYSQL_SELECT_DB</font>\n",
       "<font style=\"background: rgba(128,0,0, 0.500)\">LPAREN</font>\n",
       "<font style=\"background: rgba(0,206,209, 0.500)\">CONSTANT_ENCAPSED_STRING</font>\n",
       "<font style=\"background: rgba(255,255,255, 0.500)\">RPAREN</font>\n",
       "<font style=\"background: rgba(95,158,160, 0.500)\">SEMI</font>\n",
       "<br />\n",
       "<font style=\"background: rgba(255,255,255, 0.500)\">ECHO</font>\n",
       "<font style=\"background: rgba(95,158,160, 0.500)\">QUOTE</font>\n",
       "<font style=\"background: rgba(0,128,0, 0.500)\">ENCAPSED_AND_WHITESPACE</font>\n",
       "<font style=\"background: rgba(95,158,160, 0.500)\">QUOTE</font>\n",
       "<font style=\"background: rgba(255,255,255, 0.500)\">CONCAT</font>\n",
       "<font style=\"background: rgba(255,255,255, 0.500)\">VAR1</font>\n",
       "<font style=\"background: rgba(255,255,255, 0.500)\">CONCAT</font>\n",
       "<font style=\"background: rgba(95,158,160, 0.500)\">QUOTE</font>\n",
       "<font style=\"background: rgba(0,128,0, 0.500)\">ENCAPSED_AND_WHITESPACE</font>\n",
       "<font style=\"background: rgba(95,158,160, 0.500)\">QUOTE</font>\n",
       "<font style=\"background: rgba(95,158,160, 0.500)\">SEMI</font>\n",
       "<br />\n",
       "<font style=\"background: rgba(255,255,255, 0.500)\">VAR3</font>\n",
       "<font style=\"background: rgba(0,0,255, 0.500)\">EQUALS</font>\n",
       "<font style=\"background: rgba(255,255,255, 0.500)\">MYSQL_QUERY</font>\n",
       "<font style=\"background: rgba(128,0,0, 0.500)\">LPAREN</font>\n",
       "<font style=\"background: rgba(255,255,255, 0.500)\">VAR1</font>\n",
       "<font style=\"background: rgba(255,255,255, 0.500)\">RPAREN</font>\n",
       "<font style=\"background: rgba(95,158,160, 0.500)\">SEMI</font>\n",
       "<br />\n",
       "<font style=\"background: rgba(255,255,255, 0.500)\">WHILE</font>\n",
       "<font style=\"background: rgba(128,0,0, 0.500)\">LPAREN</font>\n",
       "<font style=\"background: rgba(255,255,255, 0.500)\">VAR5</font>\n",
       "<font style=\"background: rgba(0,0,255, 0.500)\">EQUALS</font>\n",
       "<font style=\"background: rgba(255,255,255, 0.500)\">MYSQL_FETCH_ARRAY</font>\n",
       "<font style=\"background: rgba(128,0,0, 0.500)\">LPAREN</font>\n",
       "<font style=\"background: rgba(255,255,255, 0.500)\">VAR3</font>\n",
       "<font style=\"background: rgba(255,255,255, 0.500)\">RPAREN</font>\n",
       "<font style=\"background: rgba(255,255,255, 0.500)\">RPAREN</font>\n",
       "<font style=\"background: rgba(255,255,255, 0.500)\">LBRACE</font>\n",
       "<font style=\"background: rgba(255,255,255, 0.500)\">PRINT_R</font>\n",
       "<font style=\"background: rgba(128,0,0, 0.500)\">LPAREN</font>\n",
       "<font style=\"background: rgba(255,255,255, 0.500)\">VAR5</font>\n",
       "<font style=\"background: rgba(255,255,255, 0.500)\">RPAREN</font>\n",
       "<font style=\"background: rgba(95,158,160, 0.500)\">SEMI</font>\n",
       "<br />\n",
       "<font style=\"background: rgba(255,255,255, 0.500)\">ECHO</font>\n",
       "<font style=\"background: rgba(95,158,160, 0.500)\">QUOTE</font>\n",
       "<font style=\"background: rgba(0,128,0, 0.500)\">ENCAPSED_AND_WHITESPACE</font>\n",
       "<font style=\"background: rgba(95,158,160, 0.500)\">QUOTE</font>\n",
       "<font style=\"background: rgba(95,158,160, 0.500)\">SEMI</font>\n",
       "<br />\n",
       "<font style=\"background: rgba(255,128,0, 0.500)\">RBRACE</font>\n",
       "<font style=\"background: rgba(255,255,255, 0.500)\">MYSQL_CLOSE</font>\n",
       "<font style=\"background: rgba(128,0,0, 0.500)\">LPAREN</font>\n",
       "<font style=\"background: rgba(0,0,255, 0.500)\">VAR4</font>\n",
       "<font style=\"background: rgba(255,255,255, 0.500)\">RPAREN</font>\n",
       "<font style=\"background: rgba(95,158,160, 0.500)\">SEMI</font>\n",
       "<br />\n"
      ],
      "text/plain": [
       "<IPython.core.display.HTML object>"
      ]
     },
     "metadata": {},
     "output_type": "display_data"
    },
    {
     "data": {
      "image/png": "[encoded data removed]",
      "text/plain": [
       "<Figure size 720x864 with 1 Axes>"
      ]
     },
     "metadata": {
      "needs_background": "light"
     },
     "output_type": "display_data"
    }
   ],
   "source": [
    "act.display_activations(sard_sqli_token,idx)"
   ]
  },
  {
   "cell_type": "markdown",
   "metadata": {},
   "source": [
    "## Graph Tokens"
   ]
  },
  {
   "cell_type": "code",
   "execution_count": 6,
   "metadata": {},
   "outputs": [
    {
     "data": {
      "text/html": [
       "<h1 style=\"text-align: center;\"><span style=\"text-decoration: underline;\"><strong>Saliency Map</strong></span></h1>Label: 1 <br /> Predicted: 1 <br /> Number of UNKNOWN tokens: 0 <br />Distribution of activations: <font style=\"background: rgba(255,255,255, 0.5)\">0.0</font> <font style=\"background: rgba(0,0,255, 0.5)\">0.1</font> <font style=\"background: rgba(0,206,209, 0.5)\">0.2</font> <font style=\"background: rgba(0,128,0, 0.5)\">0.3</font> <font style=\"background: rgba(153,255,204, 0.5)\">0.4</font> <font style=\"background: rgba(95,158,160, 0.5)\">0.5</font> <font style=\"background: rgba(255,128,0, 0.5)\">0.6</font> <font style=\"background: rgba(255,0,255, 0.5)\">0.7</font> <font style=\"background: rgba(255,0,0, 0.5)\">0.8</font> <font style=\"background: rgba(128,0,0, 0.5)\">0.9</font> <br /> <br /><font style=\"background: rgba(0,0,255, 0.500)\">VAR0</font>\n",
       "<font style=\"background: rgba(0,128,0, 0.500)\">EQUALS</font>\n",
       "<font style=\"background: rgba(0,206,209, 0.500)\">$_POST</font>\n",
       "<font style=\"background: rgba(153,255,204, 0.500)\">LBRACKET</font>\n",
       "<font style=\"background: rgba(95,158,160, 0.500)\">CONSTANT_ENCAPSED_STRING</font>\n",
       "<font style=\"background: rgba(0,206,209, 0.500)\">RBRACKET</font>\n",
       "<br />\n",
       "<font style=\"background: rgba(0,206,209, 0.500)\">VAR2</font>\n",
       "<font style=\"background: rgba(0,128,0, 0.500)\">EQUALS</font>\n",
       "<font style=\"background: rgba(255,255,255, 0.500)\">UNSERIALIZE</font>\n",
       "<font style=\"background: rgba(255,255,255, 0.500)\">LPAREN</font>\n",
       "<font style=\"background: rgba(0,0,255, 0.500)\">VAR0</font>\n",
       "<font style=\"background: rgba(0,0,255, 0.500)\">RPAREN</font>\n",
       "<br />\n",
       "<font style=\"background: rgba(255,255,255, 0.500)\">VAR1</font>\n",
       "<font style=\"background: rgba(0,128,0, 0.500)\">EQUALS</font>\n",
       "<font style=\"background: rgba(95,158,160, 0.500)\">CONSTANT_ENCAPSED_STRING</font>\n",
       "<font style=\"background: rgba(255,0,255, 0.500)\">CONCAT</font>\n",
       "<font style=\"background: rgba(0,206,209, 0.500)\">VAR2</font>\n",
       "<font style=\"background: rgba(255,0,255, 0.500)\">CONCAT</font>\n",
       "<font style=\"background: rgba(95,158,160, 0.500)\">CONSTANT_ENCAPSED_STRING</font>\n",
       "<br />\n",
       "<font style=\"background: rgba(0,0,255, 0.500)\">VAR4</font>\n",
       "<font style=\"background: rgba(0,128,0, 0.500)\">EQUALS</font>\n",
       "<font style=\"background: rgba(0,206,209, 0.500)\">MYSQL_CONNECT</font>\n",
       "<font style=\"background: rgba(255,255,255, 0.500)\">LPAREN</font>\n",
       "<font style=\"background: rgba(95,158,160, 0.500)\">CONSTANT_ENCAPSED_STRING</font>\n",
       "<font style=\"background: rgba(0,0,255, 0.500)\">COMMA</font>\n",
       "<font style=\"background: rgba(95,158,160, 0.500)\">CONSTANT_ENCAPSED_STRING</font>\n",
       "<font style=\"background: rgba(0,0,255, 0.500)\">COMMA</font>\n",
       "<font style=\"background: rgba(95,158,160, 0.500)\">CONSTANT_ENCAPSED_STRING</font>\n",
       "<font style=\"background: rgba(0,0,255, 0.500)\">RPAREN</font>\n",
       "<br />\n",
       "<font style=\"background: rgba(255,255,255, 0.500)\">MYSQL_SELECT_DB</font>\n",
       "<font style=\"background: rgba(255,255,255, 0.500)\">LPAREN</font>\n",
       "<font style=\"background: rgba(95,158,160, 0.500)\">CONSTANT_ENCAPSED_STRING</font>\n",
       "<font style=\"background: rgba(0,0,255, 0.500)\">RPAREN</font>\n",
       "<br />\n",
       "<font style=\"background: rgba(0,206,209, 0.500)\">ECHO</font>\n",
       "<font style=\"background: rgba(95,158,160, 0.500)\">CONSTANT_ENCAPSED_STRING</font>\n",
       "<font style=\"background: rgba(255,0,255, 0.500)\">CONCAT</font>\n",
       "<font style=\"background: rgba(255,255,255, 0.500)\">VAR1</font>\n",
       "<font style=\"background: rgba(255,0,255, 0.500)\">CONCAT</font>\n",
       "<font style=\"background: rgba(95,158,160, 0.500)\">CONSTANT_ENCAPSED_STRING</font>\n",
       "<br />\n",
       "<font style=\"background: rgba(255,255,255, 0.500)\">VAR3</font>\n",
       "<font style=\"background: rgba(0,128,0, 0.500)\">EQUALS</font>\n",
       "<font style=\"background: rgba(0,206,209, 0.500)\">MYSQL_QUERY</font>\n",
       "<font style=\"background: rgba(255,255,255, 0.500)\">LPAREN</font>\n",
       "<font style=\"background: rgba(255,255,255, 0.500)\">VAR1</font>\n",
       "<font style=\"background: rgba(0,0,255, 0.500)\">RPAREN</font>\n",
       "<br />\n",
       "<font style=\"background: rgba(0,0,255, 0.500)\">WHILE</font>\n",
       "<font style=\"background: rgba(255,255,255, 0.500)\">LPAREN</font>\n",
       "<font style=\"background: rgba(0,0,255, 0.500)\">VAR5</font>\n",
       "<font style=\"background: rgba(0,128,0, 0.500)\">EQUALS</font>\n",
       "<font style=\"background: rgba(255,255,255, 0.500)\">MYSQL_FETCH_ARRAY</font>\n",
       "<font style=\"background: rgba(255,255,255, 0.500)\">LPAREN</font>\n",
       "<font style=\"background: rgba(255,255,255, 0.500)\">VAR3</font>\n",
       "<font style=\"background: rgba(0,0,255, 0.500)\">RPAREN</font>\n",
       "<font style=\"background: rgba(0,0,255, 0.500)\">RPAREN</font>\n",
       "<br />\n",
       "<font style=\"background: rgba(0,0,255, 0.500)\">PRINT_R</font>\n",
       "<font style=\"background: rgba(255,255,255, 0.500)\">LPAREN</font>\n",
       "<font style=\"background: rgba(0,0,255, 0.500)\">VAR5</font>\n",
       "<font style=\"background: rgba(0,0,255, 0.500)\">RPAREN</font>\n",
       "<br />\n",
       "<font style=\"background: rgba(0,206,209, 0.500)\">ECHO</font>\n",
       "<font style=\"background: rgba(95,158,160, 0.500)\">CONSTANT_ENCAPSED_STRING</font>\n",
       "<br />\n",
       "<font style=\"background: rgba(255,255,255, 0.500)\">MYSQL_CLOSE</font>\n",
       "<font style=\"background: rgba(255,255,255, 0.500)\">LPAREN</font>\n",
       "<font style=\"background: rgba(0,0,255, 0.500)\">VAR4</font>\n",
       "<font style=\"background: rgba(0,0,255, 0.500)\">RPAREN</font>\n",
       "<br />\n"
      ],
      "text/plain": [
       "<IPython.core.display.HTML object>"
      ]
     },
     "metadata": {},
     "output_type": "display_data"
    },
    {
     "data": {
      "text/html": [
       "<h1 style=\"text-align: center;\"><span style=\"text-decoration: underline;\"><strong>Integrated Gradients</strong></span></h1>Label: 1 <br /> Predicted: 1 <br /> Number of UNKNOWN tokens: 0 <br />Distribution of activations: <font style=\"background: rgba(255,255,255, 0.5)\">0.0</font> <font style=\"background: rgba(0,0,255, 0.5)\">0.1</font> <font style=\"background: rgba(0,206,209, 0.5)\">0.2</font> <font style=\"background: rgba(0,128,0, 0.5)\">0.3</font> <font style=\"background: rgba(153,255,204, 0.5)\">0.4</font> <font style=\"background: rgba(95,158,160, 0.5)\">0.5</font> <font style=\"background: rgba(255,128,0, 0.5)\">0.6</font> <font style=\"background: rgba(255,0,255, 0.5)\">0.7</font> <font style=\"background: rgba(255,0,0, 0.5)\">0.8</font> <font style=\"background: rgba(128,0,0, 0.5)\">0.9</font> <br /> <br /><font style=\"background: rgba(0,128,0, 0.500)\">VAR0</font>\n",
       "<font style=\"background: rgba(153,255,204, 0.500)\">EQUALS</font>\n",
       "<font style=\"background: rgba(0,0,255, 0.500)\">$_POST</font>\n",
       "<font style=\"background: rgba(255,128,0, 0.500)\">LBRACKET</font>\n",
       "<font style=\"background: rgba(128,0,0, 0.500)\">CONSTANT_ENCAPSED_STRING</font>\n",
       "<font style=\"background: rgba(0,128,0, 0.500)\">RBRACKET</font>\n",
       "<br />\n",
       "<font style=\"background: rgba(255,0,0, 0.500)\">VAR2</font>\n",
       "<font style=\"background: rgba(128,0,0, 0.500)\">EQUALS</font>\n",
       "<font style=\"background: rgba(255,255,255, 0.500)\">UNSERIALIZE</font>\n",
       "<font style=\"background: rgba(0,128,0, 0.500)\">LPAREN</font>\n",
       "<font style=\"background: rgba(255,0,255, 0.500)\">VAR0</font>\n",
       "<font style=\"background: rgba(153,255,204, 0.500)\">RPAREN</font>\n",
       "<br />\n",
       "<font style=\"background: rgba(255,255,255, 0.500)\">VAR1</font>\n",
       "<font style=\"background: rgba(0,128,0, 0.500)\">EQUALS</font>\n",
       "<font style=\"background: rgba(255,0,0, 0.500)\">CONSTANT_ENCAPSED_STRING</font>\n",
       "<font style=\"background: rgba(128,0,0, 0.500)\">CONCAT</font>\n",
       "<font style=\"background: rgba(0,128,0, 0.500)\">VAR2</font>\n",
       "<font style=\"background: rgba(128,0,0, 0.500)\">CONCAT</font>\n",
       "<font style=\"background: rgba(255,0,0, 0.500)\">CONSTANT_ENCAPSED_STRING</font>\n",
       "<br />\n",
       "<font style=\"background: rgba(0,206,209, 0.500)\">VAR4</font>\n",
       "<font style=\"background: rgba(153,255,204, 0.500)\">EQUALS</font>\n",
       "<font style=\"background: rgba(255,255,255, 0.500)\">MYSQL_CONNECT</font>\n",
       "<font style=\"background: rgba(0,0,255, 0.500)\">LPAREN</font>\n",
       "<font style=\"background: rgba(128,0,0, 0.500)\">CONSTANT_ENCAPSED_STRING</font>\n",
       "<font style=\"background: rgba(0,0,255, 0.500)\">COMMA</font>\n",
       "<font style=\"background: rgba(128,0,0, 0.500)\">CONSTANT_ENCAPSED_STRING</font>\n",
       "<font style=\"background: rgba(0,0,255, 0.500)\">COMMA</font>\n",
       "<font style=\"background: rgba(128,0,0, 0.500)\">CONSTANT_ENCAPSED_STRING</font>\n",
       "<font style=\"background: rgba(0,206,209, 0.500)\">RPAREN</font>\n",
       "<br />\n",
       "<font style=\"background: rgba(255,255,255, 0.500)\">MYSQL_SELECT_DB</font>\n",
       "<font style=\"background: rgba(0,0,255, 0.500)\">LPAREN</font>\n",
       "<font style=\"background: rgba(128,0,0, 0.500)\">CONSTANT_ENCAPSED_STRING</font>\n",
       "<font style=\"background: rgba(0,206,209, 0.500)\">RPAREN</font>\n",
       "<br />\n",
       "<font style=\"background: rgba(255,255,255, 0.500)\">ECHO</font>\n",
       "<font style=\"background: rgba(255,0,0, 0.500)\">CONSTANT_ENCAPSED_STRING</font>\n",
       "<font style=\"background: rgba(128,0,0, 0.500)\">CONCAT</font>\n",
       "<font style=\"background: rgba(255,255,255, 0.500)\">VAR1</font>\n",
       "<font style=\"background: rgba(128,0,0, 0.500)\">CONCAT</font>\n",
       "<font style=\"background: rgba(255,0,0, 0.500)\">CONSTANT_ENCAPSED_STRING</font>\n",
       "<br />\n",
       "<font style=\"background: rgba(0,128,0, 0.500)\">VAR3</font>\n",
       "<font style=\"background: rgba(128,0,0, 0.500)\">EQUALS</font>\n",
       "<font style=\"background: rgba(255,255,255, 0.500)\">MYSQL_QUERY</font>\n",
       "<font style=\"background: rgba(0,128,0, 0.500)\">LPAREN</font>\n",
       "<font style=\"background: rgba(0,0,255, 0.500)\">VAR1</font>\n",
       "<font style=\"background: rgba(153,255,204, 0.500)\">RPAREN</font>\n",
       "<br />\n",
       "<font style=\"background: rgba(0,128,0, 0.500)\">WHILE</font>\n",
       "<font style=\"background: rgba(0,128,0, 0.500)\">LPAREN</font>\n",
       "<font style=\"background: rgba(255,128,0, 0.500)\">VAR5</font>\n",
       "<font style=\"background: rgba(128,0,0, 0.500)\">EQUALS</font>\n",
       "<font style=\"background: rgba(255,255,255, 0.500)\">MYSQL_FETCH_ARRAY</font>\n",
       "<font style=\"background: rgba(0,128,0, 0.500)\">LPAREN</font>\n",
       "<font style=\"background: rgba(0,128,0, 0.500)\">VAR3</font>\n",
       "<font style=\"background: rgba(153,255,204, 0.500)\">RPAREN</font>\n",
       "<font style=\"background: rgba(153,255,204, 0.500)\">RPAREN</font>\n",
       "<br />\n",
       "<font style=\"background: rgba(0,0,255, 0.500)\">PRINT_R</font>\n",
       "<font style=\"background: rgba(95,158,160, 0.500)\">LPAREN</font>\n",
       "<font style=\"background: rgba(128,0,0, 0.500)\">VAR5</font>\n",
       "<font style=\"background: rgba(255,128,0, 0.500)\">RPAREN</font>\n",
       "<br />\n",
       "<font style=\"background: rgba(255,255,255, 0.500)\">ECHO</font>\n",
       "<font style=\"background: rgba(128,0,0, 0.500)\">CONSTANT_ENCAPSED_STRING</font>\n",
       "<br />\n",
       "<font style=\"background: rgba(255,255,255, 0.500)\">MYSQL_CLOSE</font>\n",
       "<font style=\"background: rgba(255,128,0, 0.500)\">LPAREN</font>\n",
       "<font style=\"background: rgba(128,0,0, 0.500)\">VAR4</font>\n",
       "<font style=\"background: rgba(255,0,0, 0.500)\">RPAREN</font>\n",
       "<br />\n"
      ],
      "text/plain": [
       "<IPython.core.display.HTML object>"
      ]
     },
     "metadata": {},
     "output_type": "display_data"
    },
    {
     "data": {
      "image/png": "[encoded data removed]",
      "text/plain": [
       "<Figure size 720x864 with 1 Axes>"
      ]
     },
     "metadata": {
      "needs_background": "light"
     },
     "output_type": "display_data"
    }
   ],
   "source": [
    "act.display_activations(sard_sqli_graph,idx)"
   ]
  },
  {
   "cell_type": "markdown",
   "metadata": {},
   "source": [
    "## Top code tokens "
   ]
  },
  {
   "cell_type": "code",
   "execution_count": 7,
   "metadata": {},
   "outputs": [
    {
     "data": {
      "text/plain": [
       "0      None\n",
       "1      None\n",
       "2      None\n",
       "3      None\n",
       "4      None\n",
       "       ... \n",
       "793    None\n",
       "794    None\n",
       "795    None\n",
       "796    None\n",
       "797    None\n",
       "Name: function, Length: 798, dtype: object"
      ]
     },
     "execution_count": 7,
     "metadata": {},
     "output_type": "execute_result"
    }
   ],
   "source": [
    "k=[]\n",
    "\n",
    "def tt(x):\n",
    "    for word in x:\n",
    "        k.append(word)\n",
    "sard_sqli_token.function.apply(tt)"
   ]
  },
  {
   "cell_type": "code",
   "execution_count": 8,
   "metadata": {},
   "outputs": [
    {
     "data": {
      "text/plain": [
       "SEMI                             8574\n",
       "QUOTE                            7920\n",
       "RPAREN                           7227\n",
       "LPAREN                           7227\n",
       "EQUALS                           5610\n",
       "CONSTANT_ENCAPSED_STRING         3990\n",
       "ENCAPSED_AND_WHITESPACE          3891\n",
       "COMMA                            2949\n",
       "VAR1                             2649\n",
       "VAR2                             1962\n",
       "CONCAT                           1872\n",
       "VAR3                             1548\n",
       "VAR0                             1539\n",
       "VAR4                             1398\n",
       "ECHO                             1368\n",
       "VAR5                             1284\n",
       "LBRACKET                         1197\n",
       "RBRACKET                         1197\n",
       "LBRACE                           1056\n",
       "RBRACE                           1056\n",
       "LNUMBER                           813\n",
       "VAR6                              768\n",
       "MYSQL_QUERY                       684\n",
       "MYSQL_FETCH_ARRAY                 684\n",
       "WHILE                             684\n",
       "MYSQL_SELECT_DB                   684\n",
       "MYSQL_CLOSE                       684\n",
       "PRINT_R                           684\n",
       "MYSQL_CONNECT                     684\n",
       "STRING                            570\n",
       "OBJECT_OPERATOR                   456\n",
       "ARRAY                             399\n",
       "IF                                387\n",
       "FILTER_VAR                        360\n",
       "VAR7                              294\n",
       "ELSE                              273\n",
       "$_GET                             228\n",
       "VAR8                              228\n",
       "SPRINTF                           180\n",
       "DOUBLE_ARROW                      171\n",
       "FCLOSE                            171\n",
       "VAR9                              147\n",
       "FILTER_VALIDATE_EMAIL             144\n",
       "IS_EQUAL                          129\n",
       "FUNCTION_CALL                     114\n",
       "BACKTICK                          114\n",
       "$_POST                            114\n",
       "PREG_MATCH                         72\n",
       "FILTER_SANITIZE_EMAIL              72\n",
       "FILTER_SANITIZE_SPECIAL_CHARS      72\n",
       "dtype: int64"
      ]
     },
     "execution_count": 8,
     "metadata": {},
     "output_type": "execute_result"
    }
   ],
   "source": [
    "pd.value_counts(k)[:50]"
   ]
  },
  {
   "cell_type": "markdown",
   "metadata": {},
   "source": [
    "## Top special code tokens"
   ]
  },
  {
   "cell_type": "code",
   "execution_count": 9,
   "metadata": {},
   "outputs": [],
   "source": [
    "sql = [\n",
    "\t# // Abstraction Layers\n",
    "\t# // 'dba_open',\n",
    "\t# // 'dba_popen',\n",
    "\t'dba_insert',\n",
    "\t'dba_fetch',\n",
    "\t'dba_delete',\n",
    "\t'dbx_query',\n",
    "\t'odbc_do',\n",
    "\t'odbc_exec',\n",
    "\t'odbc_execute',\n",
    "\t'db2_exec' ,\n",
    "\t'db2_execute',\n",
    "\t'fbsql_db_query',\n",
    "\t'fbsql_query',\n",
    "\t'ibase_query',\n",
    "\t'ibase_execute',\n",
    "\t'ifx_query',\n",
    "\t'ifx_do',\n",
    "\t'ingres_query',\n",
    "\t'ingres_execute',\n",
    "\t'ingres_unbuffered_query',\n",
    "\t'msql_db_query',\n",
    "\t'msql_query',\n",
    "\t# // 'msql',\n",
    "\t'mssql_query',\n",
    "\t'mssql_execute',\n",
    "\t'mysql_connect',\n",
    "\t'mysql_select_db',\n",
    "\t'mysql_close',\n",
    "\t'mysql_db_query',\n",
    "\t'mysql_query',\n",
    "\t'mysql_fetch_array',\n",
    "\t'mysql_unbuffered_query',\n",
    "\t'mysqli_stmt_execute',\n",
    "\t'mysqli_query',\n",
    "\t'mysqli_real_query',\n",
    "\t'mysqli_master_query',\n",
    "\t'oci_execute',\n",
    "\t'ociexecute',\n",
    "\t'ovrimos_exec',\n",
    "\t'ovrimos_execute',\n",
    "\t'ora_do',\n",
    "\t'ora_exec',\n",
    "\t'pg_query',\n",
    "\t'pg_send_query',\n",
    "\t'pg_send_query_params',\n",
    "\t'pg_send_prepare',\n",
    "\t'pg_prepare',\n",
    "\t'sqlite_open',\n",
    "\t'sqlite_popen',\n",
    "\t'sqlite_array_query',\n",
    "\t'arrayQuery',\n",
    "\t'singleQuery',\n",
    "\t'sqlite_query',\n",
    "\t'sqlite_exec',\n",
    "\t'sqlite_single_query',\n",
    "\t'sqlite_unbuffered_query',\n",
    "\t'sybase_query',\n",
    "\t'sybase_unbuffered_query',\n",
    "\n",
    "\n",
    "]\n",
    "\n",
    "exec = [\n",
    "\t\t'backticks',\n",
    "\t\t'exec',\n",
    "\t\t'expect_popen',\n",
    "\t\t'passthru',\n",
    "\t\t'pcntl_exec',\n",
    "\t\t'popen',\n",
    "\t\t'proc_open',\n",
    "\t\t'shell_exec',\n",
    "\t\t'system',\n",
    "\t\t'eval',\n",
    "\t\t]\n",
    "\n",
    "preg = [\n",
    "\t\t'preg_filter',\n",
    "\t\t'preg_grep',\n",
    "\t\t'preg_last_error',\n",
    "\t\t'preg_match_all',\n",
    "\t\t'preg_match',\n",
    "\t\t'preg_quote',\n",
    "\t\t'preg_replace_callback',\n",
    "\t\t'preg_replace',\n",
    "\t\t'ereg_replace',\n",
    "\t\t'ereg',\n",
    "\t\t'eregi_replace',\n",
    "\t\t'eregi',\n",
    "\t]\n",
    "\n",
    "input = [\n",
    "\t\t'$_GET',\n",
    "\t\t'$_POST',\n",
    "\t\t'$_COOKIE',\n",
    "\t\t'$_REQUEST',\n",
    "\t\t'$_FILES',\n",
    "\t\t'$_SERVER',\n",
    "\t\t'$HTTP_GET_VARS',\n",
    "\t\t'$HTTP_POST_VARS',\n",
    "\t\t'$HTTP_COOKIE_VARS',\n",
    "\t\t'$HTTP_REQUEST_VARS',\n",
    "\t\t'$HTTP_POST_FILES',\n",
    "\t\t'$HTTP_SERVER_VARS',\n",
    "\t\t'$HTTP_RAW_POST_DATA',\n",
    "\t\t'$argc',\n",
    "\t\t'$argv',\n",
    "\t\t'get_headers',\n",
    "\t\t'getallheaders',\n",
    "\t\t'get_browser',\n",
    "\t\t'import_request_variables',\n",
    "\t]\n",
    "\n",
    "echo = [\n",
    "\t'echo',\n",
    "\t'print_r',\n",
    "\t'printf',\n",
    "\t'vprintf',\n",
    "\t'trigger_error',\n",
    "\t'user_error',\n",
    "\t'odbc_result_all',\n",
    "\t'ifx_htmltbl_result'\n",
    "]\n",
    "\n",
    "html = [\n",
    "\t'htmlspecialchars',\n",
    "\t'htmlentities',\n",
    "\t'ENT_QUOTES',\n",
    "]\n",
    "\n",
    "filtering = [\n",
    "\t'filter_var',\n",
    "\t'mysql_real_escape_string',\n",
    "\t'addslashes',\n",
    "]\n",
    "\n",
    "additionals = [\n",
    "\t'proc_open',\n",
    "\t'proc_close',\n",
    "\t'rawurlencode',\n",
    "\t'is_resource',\n",
    "\t'fgets',\n",
    "\t'in_array',\n",
    "\t'sprintf',\n",
    "\t'unserialize',\n",
    "\t'fread',\n",
    "\t'fopen',\n",
    "\t'fclose',\n",
    "\t'urlencode',\n",
    "\t'escapeshellarg',\n",
    "\t'http_build_query',\n",
    "\t'FILTER_SANITIZE_EMAIL',\n",
    "\t'FILTER_VALIDATE_EMAIL',\n",
    "\t'FILTER_SANITIZE_FULL_SPECIAL_CHARS',\n",
    "\t'FILTER_SANITIZE_MAGIC_QUOTES',\n",
    "\t'FILTER_SANITIZE_NUMBER_FLOAT',\n",
    "\t'FILTER_VALIDATE_FLOAT',\n",
    "\t'FILTER_SANITIZE_NUMBER_INT',\n",
    "\t'FILTER_VALIDATE_INT',\n",
    "\t'FILTER_SANITIZE_SPECIAL_CHARS',\n",
    "]\n",
    "\n",
    "casting = [\n",
    "\t# 'float',\n",
    "\t# 'int',\n",
    "\t'settype',\n",
    "\t'floatval',\n",
    "\t'intval',\n",
    "]\n",
    "\n",
    "\n",
    "#sql stuff\n",
    "# 'sprintf', 'unserialize', 'preg_match', 'pclose', 'fread', 'proc_open', 'fopen', 'exec', 'popen', 'fclose', 'stream_get_contents', 'proc_close', 'fgets', 'shell_exec', 'mysql_real_escape_string', 'filter_var', 'system', 'is_resource'\n",
    "\n",
    "combined = sql + echo + input + preg +  exec + filtering + html + additionals + casting + [\"FUNCTION_CALL\"]\n",
    "combined = [item.upper() for item in combined]"
   ]
  },
  {
   "cell_type": "code",
   "execution_count": 10,
   "metadata": {},
   "outputs": [],
   "source": [
    "k2=[]\n",
    "for one in k:\n",
    "    if one in combined:\n",
    "        k2.append(one)"
   ]
  },
  {
   "cell_type": "code",
   "execution_count": 11,
   "metadata": {},
   "outputs": [
    {
     "data": {
      "text/plain": [
       "ECHO                                  1368\n",
       "MYSQL_QUERY                            684\n",
       "MYSQL_CONNECT                          684\n",
       "MYSQL_SELECT_DB                        684\n",
       "PRINT_R                                684\n",
       "MYSQL_FETCH_ARRAY                      684\n",
       "MYSQL_CLOSE                            684\n",
       "FILTER_VAR                             360\n",
       "$_GET                                  228\n",
       "SPRINTF                                180\n",
       "FCLOSE                                 171\n",
       "FILTER_VALIDATE_EMAIL                  144\n",
       "$_POST                                 114\n",
       "FUNCTION_CALL                          114\n",
       "FILTER_SANITIZE_FULL_SPECIAL_CHARS      72\n",
       "FILTER_SANITIZE_EMAIL                   72\n",
       "MYSQL_REAL_ESCAPE_STRING                72\n",
       "PREG_MATCH                              72\n",
       "FILTER_SANITIZE_SPECIAL_CHARS           72\n",
       "PROC_OPEN                               57\n",
       "FGETS                                   57\n",
       "EXEC                                    57\n",
       "FREAD                                   57\n",
       "FOPEN                                   57\n",
       "SHELL_EXEC                              57\n",
       "IS_RESOURCE                             57\n",
       "SYSTEM                                  57\n",
       "UNSERIALIZE                             57\n",
       "POPEN                                   57\n",
       "PROC_CLOSE                              57\n",
       "dtype: int64"
      ]
     },
     "execution_count": 11,
     "metadata": {},
     "output_type": "execute_result"
    }
   ],
   "source": [
    "pd.value_counts(k2)"
   ]
  },
  {
   "cell_type": "markdown",
   "metadata": {},
   "source": [
    "## Top graph tokens"
   ]
  },
  {
   "cell_type": "code",
   "execution_count": 12,
   "metadata": {},
   "outputs": [
    {
     "data": {
      "text/plain": [
       "0      None\n",
       "1      None\n",
       "2      None\n",
       "3      None\n",
       "4      None\n",
       "       ... \n",
       "793    None\n",
       "794    None\n",
       "795    None\n",
       "796    None\n",
       "797    None\n",
       "Name: function, Length: 798, dtype: object"
      ]
     },
     "execution_count": 12,
     "metadata": {},
     "output_type": "execute_result"
    }
   ],
   "source": [
    "k=[]\n",
    "\n",
    "def tt(x):\n",
    "    for word in x:\n",
    "        k.append(word)\n",
    "sard_sqli_graph.function.apply(tt)"
   ]
  },
  {
   "cell_type": "code",
   "execution_count": 13,
   "metadata": {},
   "outputs": [
    {
     "data": {
      "text/plain": [
       "CONSTANT_ENCAPSED_STRING              7140\n",
       "LPAREN                                6999\n",
       "RPAREN                                6999\n",
       "EQUALS                                5439\n",
       "CONCAT                                3003\n",
       "COMMA                                 2835\n",
       "VAR1                                  2649\n",
       "VAR2                                  1962\n",
       "QUOTE                                 1896\n",
       "VAR3                                  1548\n",
       "VAR0                                  1539\n",
       "VAR4                                  1398\n",
       "LBRACKET                              1368\n",
       "ECHO                                  1368\n",
       "RBRACKET                              1311\n",
       "VAR5                                  1284\n",
       "ENCAPSED_AND_WHITESPACE                948\n",
       "STRING                                 855\n",
       "VAR6                                   768\n",
       "LNUMBER                                756\n",
       "WHILE                                  684\n",
       "MYSQL_CLOSE                            684\n",
       "MYSQL_CONNECT                          684\n",
       "MYSQL_QUERY                            684\n",
       "MYSQL_FETCH_ARRAY                      684\n",
       "PRINT_R                                684\n",
       "MYSQL_SELECT_DB                        684\n",
       "IF                                     387\n",
       "FILTER_VAR                             360\n",
       "MOD                                    342\n",
       "VAR7                                   294\n",
       "$_GET                                  228\n",
       "LBRACE                                 228\n",
       "VAR8                                   228\n",
       "SPRINTF                                180\n",
       "FCLOSE                                 171\n",
       "MINUS                                  171\n",
       "RBRACE                                 171\n",
       "DO                                     171\n",
       "VAR9                                   147\n",
       "FILTER_VALIDATE_EMAIL                  144\n",
       "IS_EQUAL                               129\n",
       "SHELL_EXEC                             114\n",
       "COLON                                  114\n",
       "$_POST                                 114\n",
       "FILTER_SANITIZE_FULL_SPECIAL_CHARS      72\n",
       "MYSQL_REAL_ESCAPE_STRING                72\n",
       "PREG_MATCH                              72\n",
       "FILTER_SANITIZE_EMAIL                   72\n",
       "FILTER_SANITIZE_SPECIAL_CHARS           72\n",
       "PROC_OPEN                               57\n",
       "FOPEN                                   57\n",
       "IS_RESOURCE                             57\n",
       "POPEN                                   57\n",
       "UNSERIALIZE                             57\n",
       "dtype: int64"
      ]
     },
     "execution_count": 13,
     "metadata": {},
     "output_type": "execute_result"
    }
   ],
   "source": [
    "pd.value_counts(k)[:55]"
   ]
  },
  {
   "cell_type": "markdown",
   "metadata": {},
   "source": [
    "## Top special graph tokens"
   ]
  },
  {
   "cell_type": "code",
   "execution_count": 14,
   "metadata": {},
   "outputs": [
    {
     "data": {
      "text/plain": [
       "ECHO                                  1368\n",
       "MYSQL_QUERY                            684\n",
       "MYSQL_CONNECT                          684\n",
       "PRINT_R                                684\n",
       "MYSQL_FETCH_ARRAY                      684\n",
       "MYSQL_SELECT_DB                        684\n",
       "MYSQL_CLOSE                            684\n",
       "FILTER_VAR                             360\n",
       "$_GET                                  228\n",
       "SPRINTF                                180\n",
       "FCLOSE                                 171\n",
       "FILTER_VALIDATE_EMAIL                  144\n",
       "SHELL_EXEC                             114\n",
       "$_POST                                 114\n",
       "FILTER_SANITIZE_FULL_SPECIAL_CHARS      72\n",
       "PREG_MATCH                              72\n",
       "FILTER_SANITIZE_SPECIAL_CHARS           72\n",
       "FILTER_SANITIZE_EMAIL                   72\n",
       "MYSQL_REAL_ESCAPE_STRING                72\n",
       "PROC_OPEN                               57\n",
       "FGETS                                   57\n",
       "FOPEN                                   57\n",
       "EXEC                                    57\n",
       "FREAD                                   57\n",
       "IS_RESOURCE                             57\n",
       "SYSTEM                                  57\n",
       "UNSERIALIZE                             57\n",
       "POPEN                                   57\n",
       "PROC_CLOSE                              57\n",
       "dtype: int64"
      ]
     },
     "execution_count": 14,
     "metadata": {},
     "output_type": "execute_result"
    }
   ],
   "source": [
    "k2=[]\n",
    "for one in k:\n",
    "    if one in combined:\n",
    "        k2.append(one)\n",
    "pd.value_counts(k2)"
   ]
  },
  {
   "cell_type": "markdown",
   "metadata": {},
   "source": [
    "## Top gradients and integrated gradients (graph)"
   ]
  },
  {
   "cell_type": "code",
   "execution_count": 52,
   "metadata": {},
   "outputs": [
    {
     "data": {
      "text/plain": [
       "0      None\n",
       "1      None\n",
       "2      None\n",
       "3      None\n",
       "4      None\n",
       "       ... \n",
       "793    None\n",
       "794    None\n",
       "795    None\n",
       "796    None\n",
       "797    None\n",
       "Name: ig, Length: 386, dtype: object"
      ]
     },
     "execution_count": 52,
     "metadata": {},
     "output_type": "execute_result"
    }
   ],
   "source": [
    "temp = sard_sqli_graph\n",
    "#temp = sard_sqli_graph[sard_sqli_graph.function.apply(lambda x: x==sard_sqli_graph.function.value_counts().index[0])]\n",
    "temp = sard_sqli_graph[sard_sqli_graph.predicted==1]\n",
    "all_func=[]\n",
    "grads = []\n",
    "igrad =[]\n",
    "\n",
    "working = [len(grad)!=len(ig) for grad,ig in zip(temp.gradients,temp.ig)]\n",
    "\n",
    "#temp[working].function.apply(all_func.extend)\n",
    "#temp[working].gradients.apply(grads.extend)\n",
    "#temp[working].ig.apply(igrad.extend)\n",
    "\n",
    "temp.function.apply(all_func.extend)\n",
    "temp.gradients.apply(grads.extend)\n",
    "temp.ig.apply(igrad.extend)"
   ]
  },
  {
   "cell_type": "code",
   "execution_count": 56,
   "metadata": {},
   "outputs": [
    {
     "data": {
      "text/plain": [
       "513    [0.541901, 0.095458515, 0.06947741, 1.0, 0.186...\n",
       "514    [0.54188025, 0.09962045, 0.070110455, 0.999999...\n",
       "515    [0.5419182, 0.10409289, 0.07079065, 1.0, 0.213...\n",
       "516    [0.5414378, 0.10723997, 0.07046661, 0.99999994...\n",
       "517    [0.53980327, 0.10811719, 0.06780581, 0.9999999...\n",
       "518    [0.5382767, 0.10943068, 0.06529855, 1.0, 0.247...\n",
       "519    [0.53512406, 0.10751527, 0.0599195, 1.0000001,...\n",
       "520    [0.53193104, 0.10550231, 0.05444123, 0.9999999...\n",
       "522    [0.5268038, 0.10284211, 0.045909304, 1.0, 0.28...\n",
       "523    [0.52364445, 0.100849345, 0.04048836, 1.0, 0.2...\n",
       "525    [0.5187119, 0.09774196, 0.031633053, 1.0, 0.30...\n",
       "526    [0.5157273, 0.095283866, 0.025845107, 1.0, 0.3...\n",
       "527    [0.51321715, 0.0921157, 0.019349787, 1.0, 0.33...\n",
       "528    [0.5102709, 0.08963598, 0.013610338, 1.0, 0.34...\n",
       "529    [0.507318, 0.08720617, 0.007886855, 1.0, 0.352...\n",
       "530    [0.5048296, 0.084062405, 0.0014434466, 1.0, 0....\n",
       "531    [0.5047304, 0.084861554, 0.99999994, 0.3829220...\n",
       "532    [0.50534314, 0.08703724, 1.0, 0.40065497, 0.38...\n",
       "533    [0.50669706, 0.08969901, 1.0, 0.4185354, 0.374...\n",
       "534    [0.5073187, 0.09183386, 0.99999994, 0.4361123,...\n",
       "535    [0.5079204, 0.0939765, 1.0000001, 0.45358565, ...\n",
       "536    [0.5092613, 0.09660991, 0.99999994, 0.4712655,...\n",
       "539    [0.50368214, 0.097585425, 0.99999994, 0.476914...\n",
       "540    [0.503008, 0.09998115, 1.0, 0.4874143, 0.33857...\n",
       "541    [0.50234056, 0.102353066, 1.0, 0.49780947, 0.3...\n",
       "542    [0.50167984, 0.10470147, 1.0, 0.50810164, 0.33...\n",
       "549    [0.46944216, 0.080358274, 0.011900935, 1.00000...\n",
       "550    [0.46798402, 0.08003101, 0.011175863, 1.0, 0.3...\n",
       "551    [0.46667552, 0.07923951, 0.01016663, 1.0000001...\n",
       "552    [0.4653629, 0.08015747, 0.008128971, 1.0000001...\n",
       "553    [0.46393025, 0.07987544, 0.007399384, 1.0, 0.3...\n",
       "554    [0.46263233, 0.08077951, 0.0053930357, 1.0, 0....\n",
       "555    [0.4612204, 0.080497414, 0.004678976, 1.0, 0.3...\n",
       "556    [0.4599593, 0.07971846, 0.003710594, 1.0, 0.36...\n",
       "557    [0.45896345, 0.08133186, 0.0024735183, 1.0, 0....\n",
       "558    [0.45758817, 0.08099072, 0.0017873012, 1.0, 0....\n",
       "559    [0.45660105, 0.082585104, 0.00056993216, 1.000...\n",
       "560    [0.45530045, 0.082337946, 0.99999994, 0.405172...\n",
       "561    [0.45459107, 0.08242504, 1.0, 0.41452524, 0.26...\n",
       "562    [0.4536116, 0.08271226, 0.99999994, 0.4219786,...\n",
       "563    [0.4526326, 0.08298706, 0.99999994, 0.42932478...\n",
       "564    [0.4519436, 0.08307032, 1.0, 0.43845612, 0.244...\n",
       "565    [0.4516525, 0.085713655, 1.0, 0.44916138, 0.23...\n",
       "566    [0.450706, 0.08596769, 1.0, 0.45637962, 0.2351...\n",
       "567    [0.45041436, 0.08856801, 1.0, 0.46688163, 0.23...\n",
       "568    [0.4494806, 0.08880788, 0.99999994, 0.47396803...\n",
       "569    [0.44881883, 0.08886507, 1.0000001, 0.48272645...\n",
       "Name: ig, dtype: object"
      ]
     },
     "execution_count": 56,
     "metadata": {},
     "output_type": "execute_result"
    }
   ],
   "source": [
    "(sard_sqli_graph[sard_sqli_graph.predicted==1])[working].ig"
   ]
  },
  {
   "cell_type": "code",
   "execution_count": 40,
   "metadata": {},
   "outputs": [
    {
     "ename": "ValueError",
     "evalue": "arrays must all be same length",
     "output_type": "error",
     "traceback": [
      "\u001b[0;31m---------------------------------------------------------------------------\u001b[0m",
      "\u001b[0;31mValueError\u001b[0m                                Traceback (most recent call last)",
      "\u001b[0;32m<ipython-input-40-4c1bb68b7f22>\u001b[0m in \u001b[0;36m<module>\u001b[0;34m\u001b[0m\n\u001b[0;32m----> 1\u001b[0;31m \u001b[0mmydf\u001b[0m \u001b[0;34m=\u001b[0m \u001b[0mpd\u001b[0m\u001b[0;34m.\u001b[0m\u001b[0mDataFrame\u001b[0m\u001b[0;34m(\u001b[0m\u001b[0;34m{\u001b[0m\u001b[0;34m'token'\u001b[0m\u001b[0;34m:\u001b[0m\u001b[0mall_func\u001b[0m\u001b[0;34m,\u001b[0m \u001b[0;34m'grads'\u001b[0m\u001b[0;34m:\u001b[0m\u001b[0mgrads\u001b[0m\u001b[0;34m,\u001b[0m \u001b[0;34m'ig'\u001b[0m\u001b[0;34m:\u001b[0m\u001b[0migrad\u001b[0m\u001b[0;34m}\u001b[0m\u001b[0;34m)\u001b[0m\u001b[0;34m\u001b[0m\u001b[0;34m\u001b[0m\u001b[0m\n\u001b[0m\u001b[1;32m      2\u001b[0m \u001b[0mmydf\u001b[0m \u001b[0;34m=\u001b[0m \u001b[0mmydf\u001b[0m\u001b[0;34m.\u001b[0m\u001b[0mgroupby\u001b[0m\u001b[0;34m(\u001b[0m\u001b[0;34m'token'\u001b[0m\u001b[0;34m)\u001b[0m\u001b[0;34m.\u001b[0m\u001b[0mmean\u001b[0m\u001b[0;34m(\u001b[0m\u001b[0;34m)\u001b[0m\u001b[0;34m\u001b[0m\u001b[0;34m\u001b[0m\u001b[0m\n\u001b[1;32m      3\u001b[0m \u001b[0;34m\u001b[0m\u001b[0m\n\u001b[1;32m      4\u001b[0m \u001b[0;31m#mydf = mydf.drop_duplicates(subset = [\"token\"])\u001b[0m\u001b[0;34m\u001b[0m\u001b[0;34m\u001b[0m\u001b[0;34m\u001b[0m\u001b[0m\n",
      "\u001b[0;32m/vol/bitbucket/mhm1718/miniconda3/envs/rishi/lib/python3.7/site-packages/pandas/core/frame.py\u001b[0m in \u001b[0;36m__init__\u001b[0;34m(self, data, index, columns, dtype, copy)\u001b[0m\n\u001b[1;32m    433\u001b[0m             )\n\u001b[1;32m    434\u001b[0m         \u001b[0;32melif\u001b[0m \u001b[0misinstance\u001b[0m\u001b[0;34m(\u001b[0m\u001b[0mdata\u001b[0m\u001b[0;34m,\u001b[0m \u001b[0mdict\u001b[0m\u001b[0;34m)\u001b[0m\u001b[0;34m:\u001b[0m\u001b[0;34m\u001b[0m\u001b[0;34m\u001b[0m\u001b[0m\n\u001b[0;32m--> 435\u001b[0;31m             \u001b[0mmgr\u001b[0m \u001b[0;34m=\u001b[0m \u001b[0minit_dict\u001b[0m\u001b[0;34m(\u001b[0m\u001b[0mdata\u001b[0m\u001b[0;34m,\u001b[0m \u001b[0mindex\u001b[0m\u001b[0;34m,\u001b[0m \u001b[0mcolumns\u001b[0m\u001b[0;34m,\u001b[0m \u001b[0mdtype\u001b[0m\u001b[0;34m=\u001b[0m\u001b[0mdtype\u001b[0m\u001b[0;34m)\u001b[0m\u001b[0;34m\u001b[0m\u001b[0;34m\u001b[0m\u001b[0m\n\u001b[0m\u001b[1;32m    436\u001b[0m         \u001b[0;32melif\u001b[0m \u001b[0misinstance\u001b[0m\u001b[0;34m(\u001b[0m\u001b[0mdata\u001b[0m\u001b[0;34m,\u001b[0m \u001b[0mma\u001b[0m\u001b[0;34m.\u001b[0m\u001b[0mMaskedArray\u001b[0m\u001b[0;34m)\u001b[0m\u001b[0;34m:\u001b[0m\u001b[0;34m\u001b[0m\u001b[0;34m\u001b[0m\u001b[0m\n\u001b[1;32m    437\u001b[0m             \u001b[0;32mimport\u001b[0m \u001b[0mnumpy\u001b[0m\u001b[0;34m.\u001b[0m\u001b[0mma\u001b[0m\u001b[0;34m.\u001b[0m\u001b[0mmrecords\u001b[0m \u001b[0;32mas\u001b[0m \u001b[0mmrecords\u001b[0m\u001b[0;34m\u001b[0m\u001b[0;34m\u001b[0m\u001b[0m\n",
      "\u001b[0;32m/vol/bitbucket/mhm1718/miniconda3/envs/rishi/lib/python3.7/site-packages/pandas/core/internals/construction.py\u001b[0m in \u001b[0;36minit_dict\u001b[0;34m(data, index, columns, dtype)\u001b[0m\n\u001b[1;32m    252\u001b[0m             \u001b[0marr\u001b[0m \u001b[0;32mif\u001b[0m \u001b[0;32mnot\u001b[0m \u001b[0mis_datetime64tz_dtype\u001b[0m\u001b[0;34m(\u001b[0m\u001b[0marr\u001b[0m\u001b[0;34m)\u001b[0m \u001b[0;32melse\u001b[0m \u001b[0marr\u001b[0m\u001b[0;34m.\u001b[0m\u001b[0mcopy\u001b[0m\u001b[0;34m(\u001b[0m\u001b[0;34m)\u001b[0m \u001b[0;32mfor\u001b[0m \u001b[0marr\u001b[0m \u001b[0;32min\u001b[0m \u001b[0marrays\u001b[0m\u001b[0;34m\u001b[0m\u001b[0;34m\u001b[0m\u001b[0m\n\u001b[1;32m    253\u001b[0m         ]\n\u001b[0;32m--> 254\u001b[0;31m     \u001b[0;32mreturn\u001b[0m \u001b[0marrays_to_mgr\u001b[0m\u001b[0;34m(\u001b[0m\u001b[0marrays\u001b[0m\u001b[0;34m,\u001b[0m \u001b[0mdata_names\u001b[0m\u001b[0;34m,\u001b[0m \u001b[0mindex\u001b[0m\u001b[0;34m,\u001b[0m \u001b[0mcolumns\u001b[0m\u001b[0;34m,\u001b[0m \u001b[0mdtype\u001b[0m\u001b[0;34m=\u001b[0m\u001b[0mdtype\u001b[0m\u001b[0;34m)\u001b[0m\u001b[0;34m\u001b[0m\u001b[0;34m\u001b[0m\u001b[0m\n\u001b[0m\u001b[1;32m    255\u001b[0m \u001b[0;34m\u001b[0m\u001b[0m\n\u001b[1;32m    256\u001b[0m \u001b[0;34m\u001b[0m\u001b[0m\n",
      "\u001b[0;32m/vol/bitbucket/mhm1718/miniconda3/envs/rishi/lib/python3.7/site-packages/pandas/core/internals/construction.py\u001b[0m in \u001b[0;36marrays_to_mgr\u001b[0;34m(arrays, arr_names, index, columns, dtype)\u001b[0m\n\u001b[1;32m     62\u001b[0m     \u001b[0;31m# figure out the index, if necessary\u001b[0m\u001b[0;34m\u001b[0m\u001b[0;34m\u001b[0m\u001b[0;34m\u001b[0m\u001b[0m\n\u001b[1;32m     63\u001b[0m     \u001b[0;32mif\u001b[0m \u001b[0mindex\u001b[0m \u001b[0;32mis\u001b[0m \u001b[0;32mNone\u001b[0m\u001b[0;34m:\u001b[0m\u001b[0;34m\u001b[0m\u001b[0;34m\u001b[0m\u001b[0m\n\u001b[0;32m---> 64\u001b[0;31m         \u001b[0mindex\u001b[0m \u001b[0;34m=\u001b[0m \u001b[0mextract_index\u001b[0m\u001b[0;34m(\u001b[0m\u001b[0marrays\u001b[0m\u001b[0;34m)\u001b[0m\u001b[0;34m\u001b[0m\u001b[0;34m\u001b[0m\u001b[0m\n\u001b[0m\u001b[1;32m     65\u001b[0m     \u001b[0;32melse\u001b[0m\u001b[0;34m:\u001b[0m\u001b[0;34m\u001b[0m\u001b[0;34m\u001b[0m\u001b[0m\n\u001b[1;32m     66\u001b[0m         \u001b[0mindex\u001b[0m \u001b[0;34m=\u001b[0m \u001b[0mensure_index\u001b[0m\u001b[0;34m(\u001b[0m\u001b[0mindex\u001b[0m\u001b[0;34m)\u001b[0m\u001b[0;34m\u001b[0m\u001b[0;34m\u001b[0m\u001b[0m\n",
      "\u001b[0;32m/vol/bitbucket/mhm1718/miniconda3/envs/rishi/lib/python3.7/site-packages/pandas/core/internals/construction.py\u001b[0m in \u001b[0;36mextract_index\u001b[0;34m(data)\u001b[0m\n\u001b[1;32m    363\u001b[0m             \u001b[0mlengths\u001b[0m \u001b[0;34m=\u001b[0m \u001b[0mlist\u001b[0m\u001b[0;34m(\u001b[0m\u001b[0mset\u001b[0m\u001b[0;34m(\u001b[0m\u001b[0mraw_lengths\u001b[0m\u001b[0;34m)\u001b[0m\u001b[0;34m)\u001b[0m\u001b[0;34m\u001b[0m\u001b[0;34m\u001b[0m\u001b[0m\n\u001b[1;32m    364\u001b[0m             \u001b[0;32mif\u001b[0m \u001b[0mlen\u001b[0m\u001b[0;34m(\u001b[0m\u001b[0mlengths\u001b[0m\u001b[0;34m)\u001b[0m \u001b[0;34m>\u001b[0m \u001b[0;36m1\u001b[0m\u001b[0;34m:\u001b[0m\u001b[0;34m\u001b[0m\u001b[0;34m\u001b[0m\u001b[0m\n\u001b[0;32m--> 365\u001b[0;31m                 \u001b[0;32mraise\u001b[0m \u001b[0mValueError\u001b[0m\u001b[0;34m(\u001b[0m\u001b[0;34m\"arrays must all be same length\"\u001b[0m\u001b[0;34m)\u001b[0m\u001b[0;34m\u001b[0m\u001b[0;34m\u001b[0m\u001b[0m\n\u001b[0m\u001b[1;32m    366\u001b[0m \u001b[0;34m\u001b[0m\u001b[0m\n\u001b[1;32m    367\u001b[0m             \u001b[0;32mif\u001b[0m \u001b[0mhave_dicts\u001b[0m\u001b[0;34m:\u001b[0m\u001b[0;34m\u001b[0m\u001b[0;34m\u001b[0m\u001b[0m\n",
      "\u001b[0;31mValueError\u001b[0m: arrays must all be same length"
     ]
    }
   ],
   "source": [
    "mydf = pd.DataFrame({'token':all_func, 'grads':grads, 'ig':igrad})\n",
    "mydf = mydf.groupby('token').mean()\n",
    "\n",
    "#mydf = mydf.drop_duplicates(subset = [\"token\"])"
   ]
  },
  {
   "cell_type": "code",
   "execution_count": 45,
   "metadata": {},
   "outputs": [
    {
     "data": {
      "text/plain": [
       "33080"
      ]
     },
     "execution_count": 45,
     "metadata": {},
     "output_type": "execute_result"
    }
   ],
   "source": [
    "len(grads)"
   ]
  },
  {
   "cell_type": "code",
   "execution_count": null,
   "metadata": {},
   "outputs": [],
   "source": [
    "mydf.sort_values('grads',ascending=False)[:10]"
   ]
  },
  {
   "cell_type": "code",
   "execution_count": null,
   "metadata": {},
   "outputs": [],
   "source": [
    "mydf.sort_values('ig',ascending=False)[:10]"
   ]
  },
  {
   "cell_type": "code",
   "execution_count": null,
   "metadata": {},
   "outputs": [],
   "source": [
    "mydf.plot.barh(figsize=(10,15),width=0.8)"
   ]
  },
  {
   "cell_type": "markdown",
   "metadata": {},
   "source": [
    "## Top gradients and IG for SPECIAL TOKENS (graph)"
   ]
  },
  {
   "cell_type": "code",
   "execution_count": null,
   "metadata": {},
   "outputs": [],
   "source": [
    "pd.value_counts(mydf.index.isin(k2))"
   ]
  },
  {
   "cell_type": "code",
   "execution_count": null,
   "metadata": {},
   "outputs": [],
   "source": [
    "tmp = mydf[mydf.index.isin(k2)]"
   ]
  },
  {
   "cell_type": "code",
   "execution_count": null,
   "metadata": {},
   "outputs": [],
   "source": [
    "tmp.sort_values('ig',ascending=False)"
   ]
  },
  {
   "cell_type": "code",
   "execution_count": null,
   "metadata": {},
   "outputs": [],
   "source": [
    "tmp.plot.barh(figsize=(10,12),width=0.8)"
   ]
  },
  {
   "cell_type": "code",
   "execution_count": null,
   "metadata": {
    "scrolled": true
   },
   "outputs": [],
   "source": [
    "sard_sqli_graph.function.value_counts()"
   ]
  },
  {
   "cell_type": "code",
   "execution_count": null,
   "metadata": {},
   "outputs": [],
   "source": [
    "subs = sard_sqli_graph[sard_sqli_graph.function.apply(lambda x: x==sard_sqli_graph.function.value_counts().index[1])]"
   ]
  },
  {
   "cell_type": "code",
   "execution_count": null,
   "metadata": {},
   "outputs": [],
   "source": [
    "subs.index"
   ]
  },
  {
   "cell_type": "code",
   "execution_count": null,
   "metadata": {},
   "outputs": [],
   "source": [
    "pd.value_counts(subs.predicted)"
   ]
  },
  {
   "cell_type": "code",
   "execution_count": null,
   "metadata": {},
   "outputs": [],
   "source": [
    "subs2 = sard_sqli_token[sard_sqli_token.function.apply(lambda x: x==sard_sqli_token.function.value_counts().index[1])]"
   ]
  },
  {
   "cell_type": "code",
   "execution_count": null,
   "metadata": {},
   "outputs": [],
   "source": [
    "subs2.index"
   ]
  },
  {
   "cell_type": "code",
   "execution_count": null,
   "metadata": {},
   "outputs": [],
   "source": [
    "subs"
   ]
  },
  {
   "cell_type": "code",
   "execution_count": null,
   "metadata": {},
   "outputs": [],
   "source": []
  }
 ],
 "metadata": {
  "kernelspec": {
   "display_name": "Python 3",
   "language": "python",
   "name": "python3"
  },
  "language_info": {
   "codemirror_mode": {
    "name": "ipython",
    "version": 3
   },
   "file_extension": ".py",
   "mimetype": "text/x-python",
   "name": "python",
   "nbconvert_exporter": "python",
   "pygments_lexer": "ipython3",
   "version": "3.8.5"
  }
 },
 "nbformat": 4,
 "nbformat_minor": 4
}
