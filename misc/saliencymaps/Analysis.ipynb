{
 "cells": [
  {
   "cell_type": "markdown",
   "metadata": {},
   "source": [
    "# Deep Analysis"
   ]
  },
  {
   "cell_type": "code",
   "execution_count": 1,
   "metadata": {},
   "outputs": [],
   "source": [
    "import numpy as np\n",
    "import matplotlib.pyplot as plt\n",
    "from sklearn.metrics import confusion_matrix, f1_score , precision_score, recall_score, accuracy_score\n",
    "import pandas as pd"
   ]
  },
  {
   "cell_type": "code",
   "execution_count": 2,
   "metadata": {},
   "outputs": [],
   "source": [
    "mydf = pd.read_pickle('sard_graph.pkl')"
   ]
  },
  {
   "cell_type": "code",
   "execution_count": 3,
   "metadata": {},
   "outputs": [
    {
     "name": "stdout",
     "output_type": "stream",
     "text": [
      "Accuracy\n",
      "0.8438914027149321\n",
      "confusion matrix\n",
      "[[226   5  60   2]\n",
      " [  0  27   1   1]\n",
      " [  0   0  96   0]\n",
      " [  0   0   0  24]]\n",
      "precision\n",
      "[1.         0.84375    0.61146497 0.88888889]\n",
      "recall\n",
      "[0.77133106 0.93103448 1.         1.        ]\n",
      "f1\n",
      "[0.87090559 0.8852459  0.75889328 0.94117647]\n"
     ]
    }
   ],
   "source": [
    "print(\"Accuracy\")\n",
    "print(accuracy_score(mydf.label,np.array(mydf.predicted)))\n",
    "print(\"confusion matrix\")\n",
    "print(confusion_matrix(mydf.label,np.array(mydf.predicted)))\n",
    "print(\"precision\")\n",
    "print(precision_score(mydf.label,np.array(mydf.predicted),average=None, labels=[0,1,2,3]))\n",
    "print(\"recall\")\n",
    "print(recall_score(mydf.label,np.array(mydf.predicted),average=None, labels=[0,1,2,3]))\n",
    "print(\"f1\")\n",
    "print(f1_score(mydf.label,np.array(mydf.predicted),average=None, labels=[0,1,2,3]))"
   ]
  },
  {
   "cell_type": "markdown",
   "metadata": {},
   "source": [
    "# Correctly predicted"
   ]
  },
  {
   "cell_type": "code",
   "execution_count": 4,
   "metadata": {},
   "outputs": [
    {
     "data": {
      "text/plain": [
       "0    226\n",
       "2     96\n",
       "1     27\n",
       "3     24\n",
       "Name: label, dtype: int64"
      ]
     },
     "execution_count": 4,
     "metadata": {},
     "output_type": "execute_result"
    }
   ],
   "source": [
    "mydf[mydf.label==mydf.predicted].label.value_counts()"
   ]
  },
  {
   "cell_type": "code",
   "execution_count": 5,
   "metadata": {},
   "outputs": [
    {
     "data": {
      "text/plain": [
       "53     None\n",
       "55     None\n",
       "57     None\n",
       "73     None\n",
       "80     None\n",
       "82     None\n",
       "120    None\n",
       "124    None\n",
       "143    None\n",
       "166    None\n",
       "170    None\n",
       "176    None\n",
       "186    None\n",
       "193    None\n",
       "224    None\n",
       "248    None\n",
       "257    None\n",
       "265    None\n",
       "298    None\n",
       "305    None\n",
       "321    None\n",
       "322    None\n",
       "323    None\n",
       "332    None\n",
       "342    None\n",
       "344    None\n",
       "348    None\n",
       "Name: ig, dtype: object"
      ]
     },
     "execution_count": 5,
     "metadata": {},
     "output_type": "execute_result"
    }
   ],
   "source": [
    "correct = mydf[mydf.predicted==mydf.label]\n",
    "correct = correct[correct.label==1]\n",
    "len(correct)\n",
    "\n",
    "working_c = [len(grad)==len(ig) for grad,ig in zip(correct.gradients,correct.ig)]\n",
    "len(working_c)\n",
    "\n",
    "displ_all_func_c=[]\n",
    "displ_grads_c = []\n",
    "displ_igrad_c =[]\n",
    "\n",
    "correct[working_c].function.apply(displ_all_func_c.extend)\n",
    "correct[working_c].gradients.apply(displ_grads_c.extend)\n",
    "correct[working_c].ig.apply(displ_igrad_c.extend)"
   ]
  },
  {
   "cell_type": "code",
   "execution_count": 6,
   "metadata": {},
   "outputs": [],
   "source": [
    "correct = pd.DataFrame({'token':displ_all_func_c, 'grads':displ_grads_c, 'ig':displ_igrad_c})\n",
    "correct = correct.groupby('token').mean()"
   ]
  },
  {
   "cell_type": "code",
   "execution_count": 7,
   "metadata": {},
   "outputs": [
    {
     "data": {
      "text/html": [
       "<div>\n",
       "<style scoped>\n",
       "    .dataframe tbody tr th:only-of-type {\n",
       "        vertical-align: middle;\n",
       "    }\n",
       "\n",
       "    .dataframe tbody tr th {\n",
       "        vertical-align: top;\n",
       "    }\n",
       "\n",
       "    .dataframe thead th {\n",
       "        text-align: right;\n",
       "    }\n",
       "</style>\n",
       "<table border=\"1\" class=\"dataframe\">\n",
       "  <thead>\n",
       "    <tr style=\"text-align: right;\">\n",
       "      <th></th>\n",
       "      <th>grads</th>\n",
       "      <th>ig</th>\n",
       "    </tr>\n",
       "    <tr>\n",
       "      <th>token</th>\n",
       "      <th></th>\n",
       "      <th></th>\n",
       "    </tr>\n",
       "  </thead>\n",
       "  <tbody>\n",
       "    <tr>\n",
       "      <th>MYSQL_QUERY</th>\n",
       "      <td>0.026284</td>\n",
       "      <td>0.167141</td>\n",
       "    </tr>\n",
       "    <tr>\n",
       "      <th>MYSQL_REAL_ESCAPE_STRING</th>\n",
       "      <td>0.017866</td>\n",
       "      <td>0.471340</td>\n",
       "    </tr>\n",
       "    <tr>\n",
       "      <th>MYSQL_SELECT_DB</th>\n",
       "      <td>0.017177</td>\n",
       "      <td>0.101880</td>\n",
       "    </tr>\n",
       "    <tr>\n",
       "      <th>RPAREN</th>\n",
       "      <td>0.016883</td>\n",
       "      <td>0.974044</td>\n",
       "    </tr>\n",
       "    <tr>\n",
       "      <th>$_GET</th>\n",
       "      <td>0.016585</td>\n",
       "      <td>0.297528</td>\n",
       "    </tr>\n",
       "    <tr>\n",
       "      <th>FILTER_VALIDATE_EMAIL</th>\n",
       "      <td>0.016252</td>\n",
       "      <td>0.496012</td>\n",
       "    </tr>\n",
       "    <tr>\n",
       "      <th>EXEC</th>\n",
       "      <td>0.015592</td>\n",
       "      <td>0.354154</td>\n",
       "    </tr>\n",
       "    <tr>\n",
       "      <th>FCLOSE</th>\n",
       "      <td>0.015283</td>\n",
       "      <td>0.486224</td>\n",
       "    </tr>\n",
       "    <tr>\n",
       "      <th>EQUALS</th>\n",
       "      <td>0.015083</td>\n",
       "      <td>0.858438</td>\n",
       "    </tr>\n",
       "    <tr>\n",
       "      <th>MINUS</th>\n",
       "      <td>0.015052</td>\n",
       "      <td>0.671584</td>\n",
       "    </tr>\n",
       "    <tr>\n",
       "      <th>STRING</th>\n",
       "      <td>0.014718</td>\n",
       "      <td>0.947771</td>\n",
       "    </tr>\n",
       "    <tr>\n",
       "      <th>WHILE</th>\n",
       "      <td>0.014395</td>\n",
       "      <td>0.607313</td>\n",
       "    </tr>\n",
       "    <tr>\n",
       "      <th>VAR0</th>\n",
       "      <td>0.014041</td>\n",
       "      <td>0.944760</td>\n",
       "    </tr>\n",
       "    <tr>\n",
       "      <th>MYSQL_CONNECT</th>\n",
       "      <td>0.013070</td>\n",
       "      <td>0.072708</td>\n",
       "    </tr>\n",
       "    <tr>\n",
       "      <th>MYSQL_FETCH_ARRAY</th>\n",
       "      <td>0.012906</td>\n",
       "      <td>0.084898</td>\n",
       "    </tr>\n",
       "    <tr>\n",
       "      <th>SHELL_EXEC</th>\n",
       "      <td>0.012836</td>\n",
       "      <td>0.338115</td>\n",
       "    </tr>\n",
       "    <tr>\n",
       "      <th>ECHO</th>\n",
       "      <td>0.012776</td>\n",
       "      <td>0.275028</td>\n",
       "    </tr>\n",
       "    <tr>\n",
       "      <th>SPRINTF</th>\n",
       "      <td>0.012112</td>\n",
       "      <td>0.331406</td>\n",
       "    </tr>\n",
       "    <tr>\n",
       "      <th>SYSTEM</th>\n",
       "      <td>0.011882</td>\n",
       "      <td>0.310257</td>\n",
       "    </tr>\n",
       "    <tr>\n",
       "      <th>MYSQL_CLOSE</th>\n",
       "      <td>0.011476</td>\n",
       "      <td>0.071538</td>\n",
       "    </tr>\n",
       "  </tbody>\n",
       "</table>\n",
       "</div>"
      ],
      "text/plain": [
       "                             grads        ig\n",
       "token                                       \n",
       "MYSQL_QUERY               0.026284  0.167141\n",
       "MYSQL_REAL_ESCAPE_STRING  0.017866  0.471340\n",
       "MYSQL_SELECT_DB           0.017177  0.101880\n",
       "RPAREN                    0.016883  0.974044\n",
       "$_GET                     0.016585  0.297528\n",
       "FILTER_VALIDATE_EMAIL     0.016252  0.496012\n",
       "EXEC                      0.015592  0.354154\n",
       "FCLOSE                    0.015283  0.486224\n",
       "EQUALS                    0.015083  0.858438\n",
       "MINUS                     0.015052  0.671584\n",
       "STRING                    0.014718  0.947771\n",
       "WHILE                     0.014395  0.607313\n",
       "VAR0                      0.014041  0.944760\n",
       "MYSQL_CONNECT             0.013070  0.072708\n",
       "MYSQL_FETCH_ARRAY         0.012906  0.084898\n",
       "SHELL_EXEC                0.012836  0.338115\n",
       "ECHO                      0.012776  0.275028\n",
       "SPRINTF                   0.012112  0.331406\n",
       "SYSTEM                    0.011882  0.310257\n",
       "MYSQL_CLOSE               0.011476  0.071538"
      ]
     },
     "execution_count": 7,
     "metadata": {},
     "output_type": "execute_result"
    }
   ],
   "source": [
    "correct.sort_values('grads',ascending=False)[:20]"
   ]
  },
  {
   "cell_type": "code",
   "execution_count": 10,
   "metadata": {},
   "outputs": [
    {
     "data": {
      "text/plain": [
       "<AxesSubplot:title={'center':'CORRECT PREDICTION'}, ylabel='token'>"
      ]
     },
     "execution_count": 10,
     "metadata": {},
     "output_type": "execute_result"
    },
    {
     "data": {
      "image/png": "[encoded data removed]",
      "text/plain": [
       "<Figure size 720x864 with 1 Axes>"
      ]
     },
     "metadata": {
      "needs_background": "light"
     },
     "output_type": "display_data"
    }
   ],
   "source": [
    "correct.plot.barh(figsize=(10,12),width=0.8, title='CORRECT PREDICTION')"
   ]
  },
  {
   "cell_type": "markdown",
   "metadata": {},
   "source": [
    "# Incorrectly predicted"
   ]
  },
  {
   "cell_type": "code",
   "execution_count": 11,
   "metadata": {},
   "outputs": [
    {
     "data": {
      "text/plain": [
       "0    67\n",
       "1     2\n",
       "Name: label, dtype: int64"
      ]
     },
     "execution_count": 11,
     "metadata": {},
     "output_type": "execute_result"
    }
   ],
   "source": [
    "mydf[mydf.label!=mydf.predicted].label.value_counts()"
   ]
  },
  {
   "cell_type": "code",
   "execution_count": 12,
   "metadata": {},
   "outputs": [
    {
     "data": {
      "text/plain": [
       "2"
      ]
     },
     "execution_count": 12,
     "metadata": {},
     "output_type": "execute_result"
    }
   ],
   "source": [
    "incorrect = mydf[mydf.predicted!=mydf.label]\n",
    "incorrect = incorrect[incorrect.label==1]\n",
    "len(incorrect)"
   ]
  },
  {
   "cell_type": "code",
   "execution_count": 13,
   "metadata": {},
   "outputs": [
    {
     "data": {
      "text/plain": [
       "2"
      ]
     },
     "execution_count": 13,
     "metadata": {},
     "output_type": "execute_result"
    }
   ],
   "source": [
    "working = [len(grad)==len(ig) for grad,ig in zip(incorrect.gradients,incorrect.ig)]\n",
    "len(working)"
   ]
  },
  {
   "cell_type": "code",
   "execution_count": 14,
   "metadata": {},
   "outputs": [
    {
     "data": {
      "text/plain": [
       "37     None\n",
       "356    None\n",
       "Name: ig, dtype: object"
      ]
     },
     "execution_count": 14,
     "metadata": {},
     "output_type": "execute_result"
    }
   ],
   "source": [
    "displ_all_func=[]\n",
    "displ_grads = []\n",
    "displ_igrad =[]\n",
    "\n",
    "incorrect[working].function.apply(displ_all_func.extend)\n",
    "incorrect[working].gradients.apply(displ_grads.extend)\n",
    "incorrect[working].ig.apply(displ_igrad.extend)"
   ]
  },
  {
   "cell_type": "code",
   "execution_count": 15,
   "metadata": {},
   "outputs": [],
   "source": [
    "incorrect = pd.DataFrame({'token':displ_all_func, 'grads':displ_grads, 'ig':displ_igrad})\n",
    "incorrect = incorrect.groupby('token').mean()"
   ]
  },
  {
   "cell_type": "code",
   "execution_count": 16,
   "metadata": {},
   "outputs": [
    {
     "data": {
      "text/html": [
       "<div>\n",
       "<style scoped>\n",
       "    .dataframe tbody tr th:only-of-type {\n",
       "        vertical-align: middle;\n",
       "    }\n",
       "\n",
       "    .dataframe tbody tr th {\n",
       "        vertical-align: top;\n",
       "    }\n",
       "\n",
       "    .dataframe thead th {\n",
       "        text-align: right;\n",
       "    }\n",
       "</style>\n",
       "<table border=\"1\" class=\"dataframe\">\n",
       "  <thead>\n",
       "    <tr style=\"text-align: right;\">\n",
       "      <th></th>\n",
       "      <th>grads</th>\n",
       "      <th>ig</th>\n",
       "    </tr>\n",
       "    <tr>\n",
       "      <th>token</th>\n",
       "      <th></th>\n",
       "      <th></th>\n",
       "    </tr>\n",
       "  </thead>\n",
       "  <tbody>\n",
       "    <tr>\n",
       "      <th>VAR2</th>\n",
       "      <td>0.000527</td>\n",
       "      <td>0.043312</td>\n",
       "    </tr>\n",
       "    <tr>\n",
       "      <th>LBRACKET</th>\n",
       "      <td>0.000733</td>\n",
       "      <td>0.024699</td>\n",
       "    </tr>\n",
       "    <tr>\n",
       "      <th>FILTER_VAR</th>\n",
       "      <td>0.000749</td>\n",
       "      <td>0.019893</td>\n",
       "    </tr>\n",
       "    <tr>\n",
       "      <th>RBRACKET</th>\n",
       "      <td>0.000831</td>\n",
       "      <td>0.030869</td>\n",
       "    </tr>\n",
       "    <tr>\n",
       "      <th>VAR1</th>\n",
       "      <td>0.000875</td>\n",
       "      <td>0.069238</td>\n",
       "    </tr>\n",
       "    <tr>\n",
       "      <th>VAR4</th>\n",
       "      <td>0.001091</td>\n",
       "      <td>0.071341</td>\n",
       "    </tr>\n",
       "    <tr>\n",
       "      <th>VAR3</th>\n",
       "      <td>0.001410</td>\n",
       "      <td>0.105387</td>\n",
       "    </tr>\n",
       "    <tr>\n",
       "      <th>ENCAPSED_AND_WHITESPACE</th>\n",
       "      <td>0.001428</td>\n",
       "      <td>0.101734</td>\n",
       "    </tr>\n",
       "    <tr>\n",
       "      <th>VAR6</th>\n",
       "      <td>0.001445</td>\n",
       "      <td>0.069890</td>\n",
       "    </tr>\n",
       "    <tr>\n",
       "      <th>LPAREN</th>\n",
       "      <td>0.002890</td>\n",
       "      <td>0.168831</td>\n",
       "    </tr>\n",
       "    <tr>\n",
       "      <th>VAR5</th>\n",
       "      <td>0.003271</td>\n",
       "      <td>0.190944</td>\n",
       "    </tr>\n",
       "    <tr>\n",
       "      <th>CONCAT</th>\n",
       "      <td>0.003791</td>\n",
       "      <td>0.214480</td>\n",
       "    </tr>\n",
       "    <tr>\n",
       "      <th>QUOTE</th>\n",
       "      <td>0.004363</td>\n",
       "      <td>0.255547</td>\n",
       "    </tr>\n",
       "    <tr>\n",
       "      <th>FILTER_SANITIZE_EMAIL</th>\n",
       "      <td>0.004395</td>\n",
       "      <td>0.110689</td>\n",
       "    </tr>\n",
       "    <tr>\n",
       "      <th>IF</th>\n",
       "      <td>0.004686</td>\n",
       "      <td>0.214683</td>\n",
       "    </tr>\n",
       "    <tr>\n",
       "      <th>COMMA</th>\n",
       "      <td>0.006917</td>\n",
       "      <td>0.446788</td>\n",
       "    </tr>\n",
       "    <tr>\n",
       "      <th>SYSTEM</th>\n",
       "      <td>0.010132</td>\n",
       "      <td>0.285551</td>\n",
       "    </tr>\n",
       "    <tr>\n",
       "      <th>PRINT_R</th>\n",
       "      <td>0.010558</td>\n",
       "      <td>0.169367</td>\n",
       "    </tr>\n",
       "    <tr>\n",
       "      <th>MYSQL_CLOSE</th>\n",
       "      <td>0.011105</td>\n",
       "      <td>0.079087</td>\n",
       "    </tr>\n",
       "    <tr>\n",
       "      <th>VAR0</th>\n",
       "      <td>0.011914</td>\n",
       "      <td>0.737153</td>\n",
       "    </tr>\n",
       "    <tr>\n",
       "      <th>ECHO</th>\n",
       "      <td>0.012323</td>\n",
       "      <td>0.225069</td>\n",
       "    </tr>\n",
       "    <tr>\n",
       "      <th>CONSTANT_ENCAPSED_STRING</th>\n",
       "      <td>0.012413</td>\n",
       "      <td>0.801601</td>\n",
       "    </tr>\n",
       "    <tr>\n",
       "      <th>MYSQL_FETCH_ARRAY</th>\n",
       "      <td>0.013949</td>\n",
       "      <td>0.080620</td>\n",
       "    </tr>\n",
       "    <tr>\n",
       "      <th>WHILE</th>\n",
       "      <td>0.014633</td>\n",
       "      <td>0.562627</td>\n",
       "    </tr>\n",
       "    <tr>\n",
       "      <th>RPAREN</th>\n",
       "      <td>0.014959</td>\n",
       "      <td>0.878719</td>\n",
       "    </tr>\n",
       "    <tr>\n",
       "      <th>MYSQL_CONNECT</th>\n",
       "      <td>0.015655</td>\n",
       "      <td>0.071759</td>\n",
       "    </tr>\n",
       "    <tr>\n",
       "      <th>FILTER_VALIDATE_EMAIL</th>\n",
       "      <td>0.017557</td>\n",
       "      <td>0.607421</td>\n",
       "    </tr>\n",
       "    <tr>\n",
       "      <th>MYSQL_SELECT_DB</th>\n",
       "      <td>0.017652</td>\n",
       "      <td>0.104404</td>\n",
       "    </tr>\n",
       "    <tr>\n",
       "      <th>EQUALS</th>\n",
       "      <td>0.021489</td>\n",
       "      <td>0.943118</td>\n",
       "    </tr>\n",
       "    <tr>\n",
       "      <th>MYSQL_QUERY</th>\n",
       "      <td>0.026070</td>\n",
       "      <td>0.152569</td>\n",
       "    </tr>\n",
       "  </tbody>\n",
       "</table>\n",
       "</div>"
      ],
      "text/plain": [
       "                             grads        ig\n",
       "token                                       \n",
       "VAR2                      0.000527  0.043312\n",
       "LBRACKET                  0.000733  0.024699\n",
       "FILTER_VAR                0.000749  0.019893\n",
       "RBRACKET                  0.000831  0.030869\n",
       "VAR1                      0.000875  0.069238\n",
       "VAR4                      0.001091  0.071341\n",
       "VAR3                      0.001410  0.105387\n",
       "ENCAPSED_AND_WHITESPACE   0.001428  0.101734\n",
       "VAR6                      0.001445  0.069890\n",
       "LPAREN                    0.002890  0.168831\n",
       "VAR5                      0.003271  0.190944\n",
       "CONCAT                    0.003791  0.214480\n",
       "QUOTE                     0.004363  0.255547\n",
       "FILTER_SANITIZE_EMAIL     0.004395  0.110689\n",
       "IF                        0.004686  0.214683\n",
       "COMMA                     0.006917  0.446788\n",
       "SYSTEM                    0.010132  0.285551\n",
       "PRINT_R                   0.010558  0.169367\n",
       "MYSQL_CLOSE               0.011105  0.079087\n",
       "VAR0                      0.011914  0.737153\n",
       "ECHO                      0.012323  0.225069\n",
       "CONSTANT_ENCAPSED_STRING  0.012413  0.801601\n",
       "MYSQL_FETCH_ARRAY         0.013949  0.080620\n",
       "WHILE                     0.014633  0.562627\n",
       "RPAREN                    0.014959  0.878719\n",
       "MYSQL_CONNECT             0.015655  0.071759\n",
       "FILTER_VALIDATE_EMAIL     0.017557  0.607421\n",
       "MYSQL_SELECT_DB           0.017652  0.104404\n",
       "EQUALS                    0.021489  0.943118\n",
       "MYSQL_QUERY               0.026070  0.152569"
      ]
     },
     "execution_count": 16,
     "metadata": {},
     "output_type": "execute_result"
    }
   ],
   "source": [
    "incorrect.sort_values('grads',ascending=True)"
   ]
  },
  {
   "cell_type": "code",
   "execution_count": 19,
   "metadata": {},
   "outputs": [
    {
     "data": {
      "text/plain": [
       "<AxesSubplot:title={'center':'INCORRECT PREDICTION'}, ylabel='token'>"
      ]
     },
     "execution_count": 19,
     "metadata": {},
     "output_type": "execute_result"
    },
    {
     "data": {
      "image/png": "[encoded data removed]",
      "text/plain": [
       "<Figure size 720x864 with 1 Axes>"
      ]
     },
     "metadata": {
      "needs_background": "light"
     },
     "output_type": "display_data"
    }
   ],
   "source": [
    "incorrect.plot.barh(figsize=(10,12),width=0.8,title='INCORRECT PREDICTION')"
   ]
  },
  {
   "cell_type": "markdown",
   "metadata": {},
   "source": [
    "### Sorted (Correct)"
   ]
  },
  {
   "cell_type": "code",
   "execution_count": 20,
   "metadata": {},
   "outputs": [
    {
     "data": {
      "text/plain": [
       "<AxesSubplot:title={'center':'CORRECT PREDICTION'}, ylabel='token'>"
      ]
     },
     "execution_count": 20,
     "metadata": {},
     "output_type": "execute_result"
    },
    {
     "data": {
      "image/png": "[encoded data removed]",
      "text/plain": [
       "<Figure size 720x864 with 1 Axes>"
      ]
     },
     "metadata": {
      "needs_background": "light"
     },
     "output_type": "display_data"
    }
   ],
   "source": [
    "correct.sort_values('ig',ascending=True).plot.barh(figsize=(10,12),width=0.8, title='CORRECT PREDICTION')"
   ]
  },
  {
   "cell_type": "markdown",
   "metadata": {},
   "source": [
    "### Sorted (Incorrect)"
   ]
  },
  {
   "cell_type": "code",
   "execution_count": 21,
   "metadata": {},
   "outputs": [
    {
     "data": {
      "text/plain": [
       "<AxesSubplot:title={'center':'INCORRECT PREDICTION'}, ylabel='token'>"
      ]
     },
     "execution_count": 21,
     "metadata": {},
     "output_type": "execute_result"
    },
    {
     "data": {
      "image/png": "[encoded data removed]",
      "text/plain": [
       "<Figure size 720x864 with 1 Axes>"
      ]
     },
     "metadata": {
      "needs_background": "light"
     },
     "output_type": "display_data"
    }
   ],
   "source": [
    "incorrect.sort_values('ig',ascending=True).plot.barh(figsize=(10,12),width=0.8,title='INCORRECT PREDICTION')"
   ]
  },
  {
   "cell_type": "code",
   "execution_count": 26,
   "metadata": {},
   "outputs": [],
   "source": [
    "k =mydf[mydf.predicted==mydf.label]"
   ]
  },
  {
   "cell_type": "code",
   "execution_count": 44,
   "metadata": {},
   "outputs": [
    {
     "data": {
      "text/html": [
       "<div>\n",
       "<style scoped>\n",
       "    .dataframe tbody tr th:only-of-type {\n",
       "        vertical-align: middle;\n",
       "    }\n",
       "\n",
       "    .dataframe tbody tr th {\n",
       "        vertical-align: top;\n",
       "    }\n",
       "\n",
       "    .dataframe thead th {\n",
       "        text-align: right;\n",
       "    }\n",
       "</style>\n",
       "<table border=\"1\" class=\"dataframe\">\n",
       "  <thead>\n",
       "    <tr style=\"text-align: right;\">\n",
       "      <th></th>\n",
       "      <th>function</th>\n",
       "      <th>weights</th>\n",
       "      <th>gradients</th>\n",
       "      <th>ig</th>\n",
       "      <th>html_grads</th>\n",
       "      <th>html_ig</th>\n",
       "      <th>label</th>\n",
       "      <th>predicted</th>\n",
       "      <th>filename</th>\n",
       "    </tr>\n",
       "  </thead>\n",
       "  <tbody>\n",
       "    <tr>\n",
       "      <th>0</th>\n",
       "      <td>[VAR4, EQUALS, SHELL_EXEC, LPAREN, CONSTANT_EN...</td>\n",
       "      <td>[[-0.14523997902870178, 0.08916662633419037, -...</td>\n",
       "      <td>[0.060078792794347156, 0.22463565371590963, 0....</td>\n",
       "      <td>[0.1417656, 0.31877425, 0.42472005, 0.51008016...</td>\n",
       "      <td>&lt;h1 style=\"text-align: center;\"&gt;&lt;span style=\"t...</td>\n",
       "      <td>&lt;h1 style=\"text-align: center;\"&gt;&lt;span style=\"t...</td>\n",
       "      <td>0</td>\n",
       "      <td>0</td>\n",
       "      <td>None</td>\n",
       "    </tr>\n",
       "    <tr>\n",
       "      <th>1</th>\n",
       "      <td>[VAR4, EQUALS, CONSTANT_ENCAPSED_STRING, EXEC,...</td>\n",
       "      <td>[[-0.14523997902870178, 0.08916662633419037, -...</td>\n",
       "      <td>[0.0015877627190202443, 0.01150073785575432, 0...</td>\n",
       "      <td>[0.016106114, 0.12501112, 1.0, 0.23838905, 1.0...</td>\n",
       "      <td>&lt;h1 style=\"text-align: center;\"&gt;&lt;span style=\"t...</td>\n",
       "      <td>&lt;h1 style=\"text-align: center;\"&gt;&lt;span style=\"t...</td>\n",
       "      <td>2</td>\n",
       "      <td>2</td>\n",
       "      <td>None</td>\n",
       "    </tr>\n",
       "    <tr>\n",
       "      <th>2</th>\n",
       "      <td>[VAR0, EQUALS, STRING, LPAREN, QUOTE, ENCAPSED...</td>\n",
       "      <td>[[-0.14523997902870178, 0.08916662633419037, -...</td>\n",
       "      <td>[0.008938288171378036, 0.0564048425483072, 0.0...</td>\n",
       "      <td>[0.21959122, 0.99999994, 0.0629906, 0.16804922...</td>\n",
       "      <td>&lt;h1 style=\"text-align: center;\"&gt;&lt;span style=\"t...</td>\n",
       "      <td>&lt;h1 style=\"text-align: center;\"&gt;&lt;span style=\"t...</td>\n",
       "      <td>2</td>\n",
       "      <td>2</td>\n",
       "      <td>None</td>\n",
       "    </tr>\n",
       "    <tr>\n",
       "      <th>3</th>\n",
       "      <td>[VAR5, EQUALS, $_POST, LBRACKET, CONSTANT_ENCA...</td>\n",
       "      <td>[[-0.14523997902870178, 0.08916662633419037, -...</td>\n",
       "      <td>[0.006718593768467158, 0.04218896321558446, 0....</td>\n",
       "      <td>[0.09671342, 0.46727297, 0.04609216, 0.2057500...</td>\n",
       "      <td>&lt;h1 style=\"text-align: center;\"&gt;&lt;span style=\"t...</td>\n",
       "      <td>&lt;h1 style=\"text-align: center;\"&gt;&lt;span style=\"t...</td>\n",
       "      <td>0</td>\n",
       "      <td>0</td>\n",
       "      <td>None</td>\n",
       "    </tr>\n",
       "    <tr>\n",
       "      <th>4</th>\n",
       "      <td>[VAR5, EQUALS, $_POST, LBRACKET, CONSTANT_ENCA...</td>\n",
       "      <td>[[-0.14523997902870178, 0.08916662633419037, -...</td>\n",
       "      <td>[0.007630113434152552, 0.03736651606918187, 0....</td>\n",
       "      <td>[0.12966706, 0.5078348, 0.1350797, 0.20097363,...</td>\n",
       "      <td>&lt;h1 style=\"text-align: center;\"&gt;&lt;span style=\"t...</td>\n",
       "      <td>&lt;h1 style=\"text-align: center;\"&gt;&lt;span style=\"t...</td>\n",
       "      <td>0</td>\n",
       "      <td>0</td>\n",
       "      <td>None</td>\n",
       "    </tr>\n",
       "    <tr>\n",
       "      <th>...</th>\n",
       "      <td>...</td>\n",
       "      <td>...</td>\n",
       "      <td>...</td>\n",
       "      <td>...</td>\n",
       "      <td>...</td>\n",
       "      <td>...</td>\n",
       "      <td>...</td>\n",
       "      <td>...</td>\n",
       "      <td>...</td>\n",
       "    </tr>\n",
       "    <tr>\n",
       "      <th>437</th>\n",
       "      <td>[VAR0, EQUALS, LBRACE, LBRACKET, CONSTANT_ENCA...</td>\n",
       "      <td>[[-0.14523997902870178, 0.08916662633419037, -...</td>\n",
       "      <td>[0.011316391376853087, 0.012309684868457798, 0...</td>\n",
       "      <td>[1.0000001, 0.82578266, 0.01638534, 0.32504722...</td>\n",
       "      <td>&lt;h1 style=\"text-align: center;\"&gt;&lt;span style=\"t...</td>\n",
       "      <td>&lt;h1 style=\"text-align: center;\"&gt;&lt;span style=\"t...</td>\n",
       "      <td>2</td>\n",
       "      <td>2</td>\n",
       "      <td>None</td>\n",
       "    </tr>\n",
       "    <tr>\n",
       "      <th>438</th>\n",
       "      <td>[VAR2, EQUALS, SHELL_EXEC, LPAREN, CONSTANT_EN...</td>\n",
       "      <td>[[-0.14523997902870178, 0.08916662633419037, -...</td>\n",
       "      <td>[0.0011563687747082648, 0.01217291960210868, 0...</td>\n",
       "      <td>[0.08916741, 0.7097954, 0.33900574, 0.0970337,...</td>\n",
       "      <td>&lt;h1 style=\"text-align: center;\"&gt;&lt;span style=\"t...</td>\n",
       "      <td>&lt;h1 style=\"text-align: center;\"&gt;&lt;span style=\"t...</td>\n",
       "      <td>0</td>\n",
       "      <td>0</td>\n",
       "      <td>None</td>\n",
       "    </tr>\n",
       "    <tr>\n",
       "      <th>439</th>\n",
       "      <td>[VAR0, EQUALS, STRING, LPAREN, QUOTE, ENCAPSED...</td>\n",
       "      <td>[[-0.14523997902870178, 0.08916662633419037, -...</td>\n",
       "      <td>[0.011312695930493182, 0.012195391125812288, 0...</td>\n",
       "      <td>[0.7764923, 0.63689065, 1.0, 0.083713025, 0.20...</td>\n",
       "      <td>&lt;h1 style=\"text-align: center;\"&gt;&lt;span style=\"t...</td>\n",
       "      <td>&lt;h1 style=\"text-align: center;\"&gt;&lt;span style=\"t...</td>\n",
       "      <td>0</td>\n",
       "      <td>0</td>\n",
       "      <td>None</td>\n",
       "    </tr>\n",
       "    <tr>\n",
       "      <th>440</th>\n",
       "      <td>[VAR0, EQUALS, FOPEN, LPAREN, CONSTANT_ENCAPSE...</td>\n",
       "      <td>[[-0.14523997902870178, 0.08916662633419037, -...</td>\n",
       "      <td>[0.011589088935013038, 0.012122282989506161, 0...</td>\n",
       "      <td>[0.889456, 0.7098614, 0.27134824, 0.095719725,...</td>\n",
       "      <td>&lt;h1 style=\"text-align: center;\"&gt;&lt;span style=\"t...</td>\n",
       "      <td>&lt;h1 style=\"text-align: center;\"&gt;&lt;span style=\"t...</td>\n",
       "      <td>0</td>\n",
       "      <td>0</td>\n",
       "      <td>None</td>\n",
       "    </tr>\n",
       "    <tr>\n",
       "      <th>441</th>\n",
       "      <td>[VAR0, EQUALS, STRING, LPAREN, QUOTE, ENCAPSED...</td>\n",
       "      <td>[[-0.14523997902870178, 0.08916662633419037, -...</td>\n",
       "      <td>[0.011769986616041886, 0.01227363003271026, 0....</td>\n",
       "      <td>[0.80911875, 0.64155245, 1.0, 0.092611164, 0.2...</td>\n",
       "      <td>&lt;h1 style=\"text-align: center;\"&gt;&lt;span style=\"t...</td>\n",
       "      <td>&lt;h1 style=\"text-align: center;\"&gt;&lt;span style=\"t...</td>\n",
       "      <td>2</td>\n",
       "      <td>2</td>\n",
       "      <td>None</td>\n",
       "    </tr>\n",
       "  </tbody>\n",
       "</table>\n",
       "<p>373 rows × 9 columns</p>\n",
       "</div>"
      ],
      "text/plain": [
       "                                              function  \\\n",
       "0    [VAR4, EQUALS, SHELL_EXEC, LPAREN, CONSTANT_EN...   \n",
       "1    [VAR4, EQUALS, CONSTANT_ENCAPSED_STRING, EXEC,...   \n",
       "2    [VAR0, EQUALS, STRING, LPAREN, QUOTE, ENCAPSED...   \n",
       "3    [VAR5, EQUALS, $_POST, LBRACKET, CONSTANT_ENCA...   \n",
       "4    [VAR5, EQUALS, $_POST, LBRACKET, CONSTANT_ENCA...   \n",
       "..                                                 ...   \n",
       "437  [VAR0, EQUALS, LBRACE, LBRACKET, CONSTANT_ENCA...   \n",
       "438  [VAR2, EQUALS, SHELL_EXEC, LPAREN, CONSTANT_EN...   \n",
       "439  [VAR0, EQUALS, STRING, LPAREN, QUOTE, ENCAPSED...   \n",
       "440  [VAR0, EQUALS, FOPEN, LPAREN, CONSTANT_ENCAPSE...   \n",
       "441  [VAR0, EQUALS, STRING, LPAREN, QUOTE, ENCAPSED...   \n",
       "\n",
       "                                               weights  \\\n",
       "0    [[-0.14523997902870178, 0.08916662633419037, -...   \n",
       "1    [[-0.14523997902870178, 0.08916662633419037, -...   \n",
       "2    [[-0.14523997902870178, 0.08916662633419037, -...   \n",
       "3    [[-0.14523997902870178, 0.08916662633419037, -...   \n",
       "4    [[-0.14523997902870178, 0.08916662633419037, -...   \n",
       "..                                                 ...   \n",
       "437  [[-0.14523997902870178, 0.08916662633419037, -...   \n",
       "438  [[-0.14523997902870178, 0.08916662633419037, -...   \n",
       "439  [[-0.14523997902870178, 0.08916662633419037, -...   \n",
       "440  [[-0.14523997902870178, 0.08916662633419037, -...   \n",
       "441  [[-0.14523997902870178, 0.08916662633419037, -...   \n",
       "\n",
       "                                             gradients  \\\n",
       "0    [0.060078792794347156, 0.22463565371590963, 0....   \n",
       "1    [0.0015877627190202443, 0.01150073785575432, 0...   \n",
       "2    [0.008938288171378036, 0.0564048425483072, 0.0...   \n",
       "3    [0.006718593768467158, 0.04218896321558446, 0....   \n",
       "4    [0.007630113434152552, 0.03736651606918187, 0....   \n",
       "..                                                 ...   \n",
       "437  [0.011316391376853087, 0.012309684868457798, 0...   \n",
       "438  [0.0011563687747082648, 0.01217291960210868, 0...   \n",
       "439  [0.011312695930493182, 0.012195391125812288, 0...   \n",
       "440  [0.011589088935013038, 0.012122282989506161, 0...   \n",
       "441  [0.011769986616041886, 0.01227363003271026, 0....   \n",
       "\n",
       "                                                    ig  \\\n",
       "0    [0.1417656, 0.31877425, 0.42472005, 0.51008016...   \n",
       "1    [0.016106114, 0.12501112, 1.0, 0.23838905, 1.0...   \n",
       "2    [0.21959122, 0.99999994, 0.0629906, 0.16804922...   \n",
       "3    [0.09671342, 0.46727297, 0.04609216, 0.2057500...   \n",
       "4    [0.12966706, 0.5078348, 0.1350797, 0.20097363,...   \n",
       "..                                                 ...   \n",
       "437  [1.0000001, 0.82578266, 0.01638534, 0.32504722...   \n",
       "438  [0.08916741, 0.7097954, 0.33900574, 0.0970337,...   \n",
       "439  [0.7764923, 0.63689065, 1.0, 0.083713025, 0.20...   \n",
       "440  [0.889456, 0.7098614, 0.27134824, 0.095719725,...   \n",
       "441  [0.80911875, 0.64155245, 1.0, 0.092611164, 0.2...   \n",
       "\n",
       "                                            html_grads  \\\n",
       "0    <h1 style=\"text-align: center;\"><span style=\"t...   \n",
       "1    <h1 style=\"text-align: center;\"><span style=\"t...   \n",
       "2    <h1 style=\"text-align: center;\"><span style=\"t...   \n",
       "3    <h1 style=\"text-align: center;\"><span style=\"t...   \n",
       "4    <h1 style=\"text-align: center;\"><span style=\"t...   \n",
       "..                                                 ...   \n",
       "437  <h1 style=\"text-align: center;\"><span style=\"t...   \n",
       "438  <h1 style=\"text-align: center;\"><span style=\"t...   \n",
       "439  <h1 style=\"text-align: center;\"><span style=\"t...   \n",
       "440  <h1 style=\"text-align: center;\"><span style=\"t...   \n",
       "441  <h1 style=\"text-align: center;\"><span style=\"t...   \n",
       "\n",
       "                                               html_ig  label  predicted  \\\n",
       "0    <h1 style=\"text-align: center;\"><span style=\"t...      0          0   \n",
       "1    <h1 style=\"text-align: center;\"><span style=\"t...      2          2   \n",
       "2    <h1 style=\"text-align: center;\"><span style=\"t...      2          2   \n",
       "3    <h1 style=\"text-align: center;\"><span style=\"t...      0          0   \n",
       "4    <h1 style=\"text-align: center;\"><span style=\"t...      0          0   \n",
       "..                                                 ...    ...        ...   \n",
       "437  <h1 style=\"text-align: center;\"><span style=\"t...      2          2   \n",
       "438  <h1 style=\"text-align: center;\"><span style=\"t...      0          0   \n",
       "439  <h1 style=\"text-align: center;\"><span style=\"t...      0          0   \n",
       "440  <h1 style=\"text-align: center;\"><span style=\"t...      0          0   \n",
       "441  <h1 style=\"text-align: center;\"><span style=\"t...      2          2   \n",
       "\n",
       "    filename  \n",
       "0       None  \n",
       "1       None  \n",
       "2       None  \n",
       "3       None  \n",
       "4       None  \n",
       "..       ...  \n",
       "437     None  \n",
       "438     None  \n",
       "439     None  \n",
       "440     None  \n",
       "441     None  \n",
       "\n",
       "[373 rows x 9 columns]"
      ]
     },
     "execution_count": 44,
     "metadata": {},
     "output_type": "execute_result"
    }
   ],
   "source": [
    "k"
   ]
  },
  {
   "cell_type": "code",
   "execution_count": null,
   "metadata": {},
   "outputs": [],
   "source": []
  }
 ],
 "metadata": {
  "kernelspec": {
   "display_name": "Python 3",
   "language": "python",
   "name": "python3"
  },
  "language_info": {
   "codemirror_mode": {
    "name": "ipython",
    "version": 3
   },
   "file_extension": ".py",
   "mimetype": "text/x-python",
   "name": "python",
   "nbconvert_exporter": "python",
   "pygments_lexer": "ipython3",
   "version": "3.7.7"
  }
 },
 "nbformat": 4,
 "nbformat_minor": 4
}
